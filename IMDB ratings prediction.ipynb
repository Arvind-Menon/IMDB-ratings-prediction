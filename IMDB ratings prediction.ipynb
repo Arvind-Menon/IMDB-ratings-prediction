{
  "nbformat": 4,
  "nbformat_minor": 0,
  "metadata": {
    "colab": {
      "name": "DataAnaylytics_Modeling_final (1) (1) (1).ipynb",
      "provenance": [],
      "toc_visible": true,
      "include_colab_link": true
    },
    "kernelspec": {
      "display_name": "Python 3",
      "language": "python",
      "name": "python3"
    },
    "language_info": {
      "codemirror_mode": {
        "name": "ipython",
        "version": 3
      },
      "file_extension": ".py",
      "mimetype": "text/x-python",
      "name": "python",
      "nbconvert_exporter": "python",
      "pygments_lexer": "ipython3",
      "version": "3.7.5"
    }
  },
  "cells": [
    {
      "cell_type": "markdown",
      "metadata": {
        "id": "view-in-github",
        "colab_type": "text"
      },
      "source": [
        "<a href=\"https://colab.research.google.com/gist/SrinehaS/e4954eff1b5f6ccb3a93741d20bac59f/dataanaylytics_modeling_final-1-1-1.ipynb\" target=\"_parent\"><img src=\"https://colab.research.google.com/assets/colab-badge.svg\" alt=\"Open In Colab\"/></a>"
      ]
    },
    {
      "cell_type": "markdown",
      "metadata": {
        "id": "isLX0G_yYzkw",
        "colab_type": "text"
      },
      "source": [
        "# IMDB MOVIE RATING PREDICTION AND CLASSIFICATION"
      ]
    },
    {
      "cell_type": "code",
      "metadata": {
        "id": "gOOar4eSY4PO",
        "colab_type": "code",
        "colab": {}
      },
      "source": [
        "from google.colab import drive\n",
        "drive.mount('/content/drive')"
      ],
      "execution_count": 0,
      "outputs": []
    },
    {
      "cell_type": "code",
      "metadata": {
        "colab_type": "code",
        "id": "w5g3i1JyTaeY",
        "colab": {}
      },
      "source": [
        "#import libraries\n",
        "import pandas as pd\n",
        "import numpy as np\n",
        "import matplotlib.pyplot as plt\n",
        "%matplotlib inline\n",
        "from sklearn import ensemble\n",
        "from sklearn.externals import joblib\n",
        "from sklearn.model_selection import train_test_split\n",
        "from sklearn.ensemble import RandomForestRegressor\n",
        "from sklearn.svm import SVR\n",
        "from sklearn.neighbors import KNeighborsRegressor\n",
        "from sklearn.tree import DecisionTreeRegressor\n",
        "import seaborn as sns\n",
        "import statsmodels.api as sm\n",
        "\n",
        "#for some statistics\n",
        "from scipy import stats\n",
        "from scipy.stats import norm, skew\n",
        "\n",
        "from sklearn.ensemble import GradientBoostingRegressor\n",
        "\n",
        "from sklearn import preprocessing\n",
        "from sklearn.linear_model import LinearRegression\n",
        "from sklearn.model_selection import train_test_split\n",
        "from sklearn.preprocessing import StandardScaler, PolynomialFeatures\n",
        "from sklearn.preprocessing import MinMaxScaler\n",
        "from sklearn.linear_model import LinearRegression, Lasso, LassoCV, Ridge, RidgeCV\n",
        "from sklearn.model_selection import KFold\n",
        "from sklearn.pipeline import Pipeline\n",
        "import xgboost as xgb\n",
        "from sklearn.model_selection import cross_val_score\n",
        "\n",
        "\n",
        "import patsy\n",
        "import statsmodels.api as sm\n",
        "import statsmodels.formula.api as smf\n",
        "import scipy.stats as stats\n",
        "from sklearn.metrics import mean_squared_error,r2_score"
      ],
      "execution_count": 0,
      "outputs": []
    },
    {
      "cell_type": "code",
      "metadata": {
        "scrolled": true,
        "id": "CHFB24UnYzk1",
        "colab_type": "code",
        "colab": {}
      },
      "source": [
        "#Read the excel\n",
        "df_excel = pd.read_excel('imdb_may6.xlsx')\n",
        "df_excel.head(5)"
      ],
      "execution_count": 0,
      "outputs": []
    },
    {
      "cell_type": "markdown",
      "metadata": {
        "id": "0U_YiV3vYzk3",
        "colab_type": "text"
      },
      "source": [
        "## Data Pre-processing"
      ]
    },
    {
      "cell_type": "code",
      "metadata": {
        "colab_type": "code",
        "id": "93IAqnLUTslE",
        "colab": {}
      },
      "source": [
        "#Make a copy of df_excel to keep the original seperate\n",
        "df = df_excel.copy()\n",
        "#Delete unwanted columns\n",
        "del df['primaryTitle']\n",
        "del df['Production']\n",
        "del df['Type']\n",
        "\n",
        "#And drop null values.\n",
        "df = df.dropna(how='any', axis=0)\n",
        "df.reset_index(drop=True, inplace=True)\n",
        "\n",
        "print(df.info())\n",
        "print(df.describe())\n"
      ],
      "execution_count": 0,
      "outputs": []
    },
    {
      "cell_type": "code",
      "metadata": {
        "id": "q75kDb3gYzk6",
        "colab_type": "code",
        "colab": {}
      },
      "source": [
        "#Expand genres into dummy columns\n",
        "# Remove spaces from genre column to aid in dummy creation\n",
        "df['genres'] = df['genres'].str.replace(' ', '')\n",
        "\n",
        "genres = df['genres'].str.get_dummies(sep=',')\n",
        "genres.reset_index(drop=True, inplace=True)\n",
        "df = pd.concat([df, genres], axis=1)\n",
        "del df['genres']\n"
      ],
      "execution_count": 0,
      "outputs": []
    },
    {
      "cell_type": "code",
      "metadata": {
        "id": "VWoqT1XmYzk9",
        "colab_type": "code",
        "colab": {}
      },
      "source": [
        "#To pre process 'Rated'\n",
        "print(df['Rated'].value_counts())\n",
        "#to drop'Not Rated','Unrated','NOT RATED'\n",
        "\n",
        "df=df[~(df[\"Rated\"].isin(['Not Rated','Unrated','NOT RATED']))]\n",
        "print(df['Rated'].value_counts())\n",
        "\n",
        "# Let's group some of the ratings together\n",
        "def group_rating(rate):\n",
        "    if rate in [\"R\", \"PG\", \"PG-13\", \"G\"]:\n",
        "        return rate\n",
        "    else:\n",
        "        return \"other\"\n",
        "    \n",
        "df[\"Rated_clean\"] = df[\"Rated\"].map(group_rating)\n",
        "\n",
        "rate_dummies = pd.get_dummies(df[\"Rated_clean\"])\n",
        "rate_dummies = rate_dummies.drop(\"other\", axis=1)\n",
        "\n",
        "#Expand Rated into dummy columns\n",
        "#mpaa = df['Rated'].str.get_dummies()\n",
        "rate_dummies.reset_index(inplace=True, drop=True)\n",
        "df = pd.concat([df, rate_dummies], axis=1)\n",
        "del df['Rated']\n",
        "del df['Rated_clean']"
      ],
      "execution_count": 0,
      "outputs": []
    },
    {
      "cell_type": "code",
      "metadata": {
        "id": "j-SABczmYzk_",
        "colab_type": "code",
        "colab": {}
      },
      "source": [
        "#Create dummy column for languages\n",
        "df['Language'] = df['Language'].str.replace(' ', '')\n",
        "languages = df['Language'].str.get_dummies(sep=',')\n",
        "#Check the values\n",
        "print(languages.sum().sort_values(ascending = False).head(10))\n",
        "\n",
        "#Pick the top 10 languages and add them back to the dataframe\n",
        "languages = languages[['English', 'Spanish', 'French', 'German', 'Italian', 'Russian', 'Japanese','Mandarin','Arabic']]\n",
        "df = pd.concat([df, languages], axis=1)\n",
        "del df['Language']"
      ],
      "execution_count": 0,
      "outputs": []
    },
    {
      "cell_type": "code",
      "metadata": {
        "id": "PQ2QcZ9EYzlB",
        "colab_type": "code",
        "colab": {}
      },
      "source": [
        "#Create dummy column for directors\n",
        "df['Director'] = df['Director'].str.replace(' ', '')\n",
        "directors = df['Director'].str.get_dummies(sep=',')\n",
        "#Check the values\n",
        "#directors.sum().sort_values(ascending = False).head(30)\n",
        "\n",
        "#Create dummy columns for directors and delete all who have fewer than 5 films.\n",
        "directors = directors[directors.columns[directors.sum() >=5]]\n",
        "df = pd.concat([df, directors], axis=1)\n",
        "del df['Director']"
      ],
      "execution_count": 0,
      "outputs": []
    },
    {
      "cell_type": "code",
      "metadata": {
        "id": "CnzsnTo4YzlF",
        "colab_type": "code",
        "colab": {}
      },
      "source": [
        "df['Writers'] = df['Writers'].str.replace(' ', '')\n",
        "writers= df['Writers'].str.get_dummies(sep=',')\n",
        "\n",
        "#Check the values\n",
        "#print(writers.sum().sort_values(ascending = False).head(35))\n",
        "print(writers.sum().quantile(0.9))\n",
        "#Create dummy columns for writers and delete all who have fewer than 4 films.\n",
        "writers = writers[writers.columns[writers.sum() >=4]]\n",
        "df = pd.concat([df, writers], axis=1)\n",
        "del df['Writers']"
      ],
      "execution_count": 0,
      "outputs": []
    },
    {
      "cell_type": "code",
      "metadata": {
        "id": "M_nW7JrIYzlH",
        "colab_type": "code",
        "colab": {}
      },
      "source": [
        "#Create dummy column for countires\n",
        "df['Country'] = df['Country'].str.replace(' ', '')\n",
        "countries = df['Country'].str.get_dummies(sep=',')\n",
        "\n",
        "print(countries.sum().sort_values(ascending = False).head(10))\n",
        "print(countries.sum().quantile(0.9))\n",
        "\n",
        "#Pick the top 10 countries and add them back to the dataframe\n",
        "countries = countries[['USA', 'UK','France','Germany','Canada','Italy','Japan','Australia','Spain','China']]\n",
        "df = pd.concat([df, countries], axis=1)\n",
        "del df['Country']\n"
      ],
      "execution_count": 0,
      "outputs": []
    },
    {
      "cell_type": "code",
      "metadata": {
        "id": "uWl47tDNYzlJ",
        "colab_type": "code",
        "colab": {}
      },
      "source": [
        "#Based on Modeling 1, I am going to perform a log transform on my data to normalize\n",
        "\n",
        "df['runtime'] = df['runtimeMinutes'].apply(lambda x: np.log(x))\n",
        "df['votes'] = df['numVotes'].apply(lambda x: np.log(x))"
      ],
      "execution_count": 0,
      "outputs": []
    },
    {
      "cell_type": "code",
      "metadata": {
        "id": "3nJY_UYjYzlM",
        "colab_type": "code",
        "colab": {}
      },
      "source": [
        "#Reset index\n",
        "\n",
        "df.reset_index(drop=True, inplace=True)"
      ],
      "execution_count": 0,
      "outputs": []
    },
    {
      "cell_type": "code",
      "metadata": {
        "id": "4tT2s9FkZqQZ",
        "colab_type": "code",
        "colab": {}
      },
      "source": [
        "# df = df.loc[:,~df.columns.duplicated()]"
      ],
      "execution_count": 0,
      "outputs": []
    },
    {
      "cell_type": "code",
      "metadata": {
        "id": "IINoH-d1YzlP",
        "colab_type": "code",
        "colab": {}
      },
      "source": [
        "film_df=df.copy()\n",
        "\n",
        "#test_df = test_df.loc[:,~test_df.columns.duplicated()]\n",
        "#Delete unwanted columns \n",
        "del film_df['isAdult']\n",
        "del film_df['startYear']\n",
        "del film_df['Actor']\n",
        "del film_df['numVotes']\n",
        "del film_df['runtimeMinutes']"
      ],
      "execution_count": 0,
      "outputs": []
    },
    {
      "cell_type": "markdown",
      "metadata": {
        "id": "1t9NVqXjYzlR",
        "colab_type": "text"
      },
      "source": [
        "### Data Correlation"
      ]
    },
    {
      "cell_type": "code",
      "metadata": {
        "id": "iBWUTOLeYzlS",
        "colab_type": "code",
        "outputId": "32542312-2495-4872-b94d-735619960ed5",
        "colab": {
          "base_uri": "https://localhost:8080/",
          "height": 302
        }
      },
      "source": [
        "# Checking correlation\n",
        "film_df_corr = film_df.corr()\n",
        "print (film_df_corr['averageRating'].sort_values(ascending=False)[:15], '\\n')"
      ],
      "execution_count": 0,
      "outputs": [
        {
          "output_type": "stream",
          "text": [
            "averageRating    1.000000\n",
            "votes            0.412256\n",
            "runtime          0.389716\n",
            "Drama            0.310141\n",
            "Biography        0.178243\n",
            "French           0.131698\n",
            "History          0.116836\n",
            "German           0.095572\n",
            "UK               0.092519\n",
            "France           0.089170\n",
            "Italy            0.088620\n",
            "Documentary      0.087193\n",
            "War              0.081107\n",
            "Animation        0.081030\n",
            "Italian          0.079721\n",
            "Name: averageRating, dtype: float64 \n",
            "\n"
          ],
          "name": "stdout"
        }
      ]
    },
    {
      "cell_type": "markdown",
      "metadata": {
        "id": "4u7DRaH8YzlU",
        "colab_type": "text"
      },
      "source": [
        "#### Clean dataset"
      ]
    },
    {
      "cell_type": "code",
      "metadata": {
        "id": "dpykyFpkYzlU",
        "colab_type": "code",
        "colab": {}
      },
      "source": [
        "#Cleaning the final dataset\n",
        "\n",
        "def clean_dataset(df):\n",
        "    assert isinstance(df, pd.DataFrame), \"df needs to be a pd.DataFrame\"\n",
        "    df.dropna(inplace=True)\n",
        "    indices_to_keep = ~df.isin([np.nan, np.inf, -np.inf]).any(1)\n",
        "    return df[indices_to_keep].astype(np.float64)\n",
        "\n",
        "film_df = clean_dataset(film_df)"
      ],
      "execution_count": 0,
      "outputs": []
    },
    {
      "cell_type": "code",
      "metadata": {
        "id": "57TYHAUgYzlX",
        "colab_type": "code",
        "outputId": "e869976b-8572-4c94-c17d-ffe16fd5df9d",
        "colab": {
          "base_uri": "https://localhost:8080/",
          "height": 623
        }
      },
      "source": [
        "\n",
        "#Target variable for checking skewness\n",
        "\n",
        "sns.distplot(film_df['averageRating'] , fit=norm);\n",
        "\n",
        "# Get the fitted parameters used by the function\n",
        "(mu, sigma) = norm.fit(film_df['averageRating'])\n",
        "print( '\\n mu = {:.2f} and sigma = {:.2f}\\n'.format(mu, sigma))\n",
        "\n",
        "#Now plot the distribution\n",
        "plt.legend(['Normal dist. ($\\mu=$ {:.2f} and $\\sigma=$ {:.2f} )'.format(mu, sigma)],\n",
        "            loc='best')\n",
        "plt.ylabel('Frequency')\n",
        "plt.title('average Rating distribution')\n",
        "\n",
        "#Get also the QQ-plot\n",
        "fig = plt.figure()\n",
        "res = stats.probplot(film_df['averageRating'], plot=plt)\n",
        "plt.show()"
      ],
      "execution_count": 0,
      "outputs": [
        {
          "output_type": "stream",
          "text": [
            "\n",
            " mu = 6.58 and sigma = 0.97\n",
            "\n"
          ],
          "name": "stdout"
        },
        {
          "output_type": "display_data",
          "data": {
            "image/png": "[encoded data removed]",
            "text/plain": [
              "<Figure size 432x288 with 1 Axes>"
            ]
          },
          "metadata": {
            "tags": [],
            "needs_background": "light"
          }
        },
        {
          "output_type": "display_data",
          "data": {
            "image/png": "[encoded data removed]",
            "text/plain": [
              "<Figure size 432x288 with 1 Axes>"
            ]
          },
          "metadata": {
            "tags": [],
            "needs_background": "light"
          }
        }
      ]
    },
    {
      "cell_type": "markdown",
      "metadata": {
        "id": "Cma4EgMFYzlZ",
        "colab_type": "text"
      },
      "source": [
        "### Diagnostics"
      ]
    },
    {
      "cell_type": "code",
      "metadata": {
        "id": "1kCctijUYzla",
        "colab_type": "code",
        "colab": {}
      },
      "source": [
        "#Scale data\n",
        "scaler = MinMaxScaler()\n",
        "\n",
        "data = film_df.drop('averageRating', axis=1)\n",
        "target = film_df['averageRating']\n",
        "\n",
        "data = pd.DataFrame(scaler.fit_transform(data), columns=data.columns)\n",
        "\n"
      ],
      "execution_count": 0,
      "outputs": []
    },
    {
      "cell_type": "code",
      "metadata": {
        "id": "RVn2AFKwYzlc",
        "colab_type": "code",
        "outputId": "5bc6e379-8784-4341-cfa6-e75b2b0ae9c4",
        "colab": {
          "base_uri": "https://localhost:8080/",
          "height": 350
        }
      },
      "source": [
        "#Diagnostic plots\n",
        "plt.figure(figsize=(15,5))\n",
        "\n",
        "X, y = data, target\n",
        "\n",
        "rgr = LinearRegression()\n",
        "rgr.fit(X, y)\n",
        "pred = rgr.predict(X)\n",
        "\n",
        "plt.subplot(1, 3, 1)\n",
        "plt.scatter(pred, y, alpha = 0.1)\n",
        "plt.title(\"Regular regression fit\")\n",
        "plt.xlabel(\"pred\")\n",
        "plt.ylabel(\"y\")\n",
        "\n",
        "plt.subplot(1, 3, 2)\n",
        "res = (y - pred)\n",
        "plt.scatter(pred, res, alpha = 0.1)\n",
        "plt.title(\"Regression residual plot\")\n",
        "plt.xlabel(\"prediction\")\n",
        "plt.ylabel(\"residuals\")\n",
        "\n",
        "plt.subplot(1, 3, 3)\n",
        "pred = rgr.predict(X)\n",
        "stats.probplot(res, dist=\"norm\", plot=plt)\n",
        "plt.title(\"Regular regression Q-Q plot\");\n"
      ],
      "execution_count": 0,
      "outputs": [
        {
          "output_type": "display_data",
          "data": {
            "image/png": "[encoded data removed]",
            "text/plain": [
              "<Figure size 1080x360 with 3 Axes>"
            ]
          },
          "metadata": {
            "tags": [],
            "needs_background": "light"
          }
        }
      ]
    },
    {
      "cell_type": "markdown",
      "metadata": {
        "id": "vPEX6ULWYzlf",
        "colab_type": "text"
      },
      "source": [
        "###  DATA MODELLING "
      ]
    },
    {
      "cell_type": "code",
      "metadata": {
        "id": "QEemElsgYzlf",
        "colab_type": "code",
        "colab": {}
      },
      "source": [
        "#modelling\n",
        "\n",
        "moviesR = film_df.copy() #lets keep our original movies for reference. Here moviesR is for Regression model\n",
        "moviesC = film_df.copy() #Here moviesC is for classification model"
      ],
      "execution_count": 0,
      "outputs": []
    },
    {
      "cell_type": "markdown",
      "metadata": {
        "id": "M2wULPUWYzlh",
        "colab_type": "text"
      },
      "source": [
        "#### TRAIN TEST SPLIT AND MIN MAX SCALING\n",
        "\n",
        "train_test_split() returns four objects:\n",
        "\n",
        "1. X_train is the subset of our features used for training.\n",
        "2. X_test is the subset which will be our 'hold-out' set - what we'll use to test the model.\n",
        "3. y_train is the target variable averageRating which corresponds to X_train.\n",
        "4. y_test is the target variable averageRating which corresponds to X_test.\n",
        "\n",
        "fit the model using X_train and y_train, and we'll score with X_test and y_test. The model.fit() method will fit the  regression models on the features and target variable that we pass."
      ]
    },
    {
      "cell_type": "code",
      "metadata": {
        "id": "Lq2OM9j6Yzli",
        "colab_type": "code",
        "outputId": "891f98d6-6e09-417b-c7f1-392b66982977",
        "colab": {
          "base_uri": "https://localhost:8080/",
          "height": 84
        }
      },
      "source": [
        "#Datasets copied\n",
        "y = moviesR.pop('averageRating')\n",
        "X = moviesR\n",
        "X_train, X_test, y_train, y_test = train_test_split(X, y, train_size = 0.8, test_size = 0.2, random_state = 42)\n",
        "\n",
        "print(X_train.shape)\n",
        "print(y_train.shape)\n",
        "print(X_test.shape)\n",
        "print(y_test.shape)\n",
        "\n",
        "#Scaling data\n",
        "\n",
        "scaler = MinMaxScaler()\n",
        "X_train = pd.DataFrame(scaler.fit_transform(X_train.values), columns=X_train.columns, index=X_train.index)\n",
        "\n",
        "X_test = pd.DataFrame(scaler.transform(X_test.values), columns = X_test.columns, index = X_test.index)"
      ],
      "execution_count": 0,
      "outputs": [
        {
          "output_type": "stream",
          "text": [
            "(4078, 1095)\n",
            "(4078,)\n",
            "(1020, 1095)\n",
            "(1020,)\n"
          ],
          "name": "stdout"
        }
      ]
    },
    {
      "cell_type": "markdown",
      "metadata": {
        "id": "DMk6YHiiYzlk",
        "colab_type": "text"
      },
      "source": [
        "### Linear Regression"
      ]
    },
    {
      "cell_type": "code",
      "metadata": {
        "id": "XR31ub08Yzlk",
        "colab_type": "code",
        "outputId": "63cd6096-bac2-4e2f-a993-7d0d44c06bb2",
        "colab": {
          "base_uri": "https://localhost:8080/",
          "height": 67
        }
      },
      "source": [
        "#Initialize the model# \n",
        "# Linear Regression\n",
        "\n",
        "lr = LinearRegression()\n",
        "model = lr.fit(X_train, y_train)\n",
        "\n",
        "accuracies = cross_val_score(estimator=lr, X=X_train, y=y_train, cv=10) #cross-validation\n",
        "print(accuracies.mean())\n",
        "print (\"R^2 is: \\n\", model.score(X_test, y_test))"
      ],
      "execution_count": 0,
      "outputs": [
        {
          "output_type": "stream",
          "text": [
            "-2.0044286178418843e+24\n",
            "R^2 is: \n",
            " -1.7228457200891692e+23\n"
          ],
          "name": "stdout"
        }
      ]
    },
    {
      "cell_type": "code",
      "metadata": {
        "id": "veq8_NB7Yzlm",
        "colab_type": "code",
        "outputId": "d36cb55c-e6be-435f-9284-c63d80da5542",
        "colab": {
          "base_uri": "https://localhost:8080/",
          "height": 1000
        }
      },
      "source": [
        "#Simple Linear Regression\n",
        "# Adding a constant variable for using the stats model\n",
        "\n",
        "X_train_rfe_constant = sm.add_constant(X_train)\n",
        "lm = sm.OLS(y_train,X_train_rfe_constant).fit()   # Running the linear model\n",
        "\n",
        "#Let's see the summary of our linear model\n",
        "print(lm.summary())\n",
        "\n",
        "X_test_rfe = X_test\n",
        "X_test_rfe_constant = sm.add_constant(X_test)\n",
        "\n",
        "y_pred_linear = lm.predict(X_test_rfe_constant)\n",
        "y_pred_linear.values\n",
        "y_pred_linear.min(), y_pred_linear.max()\n",
        "\n",
        "#mean square error\n",
        "mean_squared_error(y_pred_linear, y_test)\n"
      ],
      "execution_count": 0,
      "outputs": [
        {
          "output_type": "stream",
          "text": [
            "                            OLS Regression Results                            \n",
            "==============================================================================\n",
            "Dep. Variable:          averageRating   R-squared:                       0.668\n",
            "Model:                            OLS   Adj. R-squared:                  0.559\n",
            "Method:                 Least Squares   F-statistic:                     6.136\n",
            "Date:                Wed, 13 May 2020   Prob (F-statistic):               0.00\n",
            "Time:                        23:39:49   Log-Likelihood:                -3420.5\n",
            "No. Observations:                4078   AIC:                             8853.\n",
            "Df Residuals:                    3072   BIC:                         1.520e+04\n",
            "Df Model:                        1005                                         \n",
            "Covariance Type:            nonrobust                                         \n",
            "=================================================================================================\n",
            "                                    coef    std err          t      P>|t|      [0.025      0.975]\n",
            "-------------------------------------------------------------------------------------------------\n",
            "const                             6.8521      0.127     54.102      0.000       6.604       7.100\n",
            "Action                           -0.3429      0.038     -8.980      0.000      -0.418      -0.268\n",
            "Adventure                        -0.2034      0.041     -5.018      0.000      -0.283      -0.124\n",
            "Animation                         0.4578      0.074      6.145      0.000       0.312       0.604\n",
            "Biography                         0.1100      0.053      2.089      0.037       0.007       0.213\n",
            "Comedy                           -0.1456      0.037     -3.883      0.000      -0.219      -0.072\n",
            "Crime                             0.0573      0.036      1.610      0.107      -0.012       0.127\n",
            "Documentary                       1.1185      0.160      6.998      0.000       0.805       1.432\n",
            "Drama                             0.2424      0.035      6.936      0.000       0.174       0.311\n",
            "Family                           -0.1334      0.056     -2.382      0.017      -0.243      -0.024\n",
            "Fantasy                          -0.2802      0.047     -6.004      0.000      -0.372      -0.189\n",
            "Film-Noir                         0.7203      0.223      3.231      0.001       0.283       1.157\n",
            "History                           0.0275      0.071      0.385      0.700      -0.113       0.168\n",
            "Horror                           -0.2704      0.050     -5.440      0.000      -0.368      -0.173\n",
            "Music                             0.0326      0.072      0.450      0.653      -0.109       0.175\n",
            "Musical                           0.1407      0.119      1.184      0.237      -0.092       0.374\n",
            "Mystery                          -0.1620      0.046     -3.488      0.000      -0.253      -0.071\n",
            "News                              0.0548      0.325      0.169      0.866      -0.582       0.692\n",
            "Romance                          -0.1452      0.039     -3.763      0.000      -0.221      -0.070\n",
            "Sci-Fi                           -0.2247      0.052     -4.317      0.000      -0.327      -0.123\n",
            "Sport                            -0.0522      0.076     -0.686      0.493      -0.201       0.097\n",
            "Thriller                         -0.1148      0.040     -2.877      0.004      -0.193      -0.037\n",
            "War                               0.1874      0.083      2.249      0.025       0.024       0.351\n",
            "Western                           0.2760      0.126      2.182      0.029       0.028       0.524\n",
            "G                                -0.1631      0.105     -1.551      0.121      -0.369       0.043\n",
            "PG                               -0.2487      0.086     -2.892      0.004      -0.417      -0.080\n",
            "PG-13                            -0.3721      0.084     -4.405      0.000      -0.538      -0.206\n",
            "R                                -0.3433      0.083     -4.144      0.000      -0.506      -0.181\n",
            "English                          -0.4754      0.071     -6.736      0.000      -0.614      -0.337\n",
            "Spanish                          -0.0303      0.039     -0.777      0.437      -0.107       0.046\n",
            "French                            0.0527      0.041      1.294      0.196      -0.027       0.133\n",
            "German                            0.0603      0.051      1.175      0.240      -0.040       0.161\n",
            "Italian                           0.0011      0.059      0.019      0.985      -0.114       0.117\n",
            "Russian                          -0.0035      0.059     -0.059      0.953      -0.119       0.112\n",
            "Japanese                         -0.0603      0.072     -0.833      0.405      -0.202       0.082\n",
            "Mandarin                          0.0359      0.089      0.404      0.686      -0.138       0.210\n",
            "Arabic                           -0.0319      0.083     -0.386      0.700      -0.194       0.130\n",
            "AaronSeltzer                     -2.0790      0.188    -11.083      0.000      -2.447      -1.711\n",
            "AdamMcKay                        -1.1111      0.802     -1.385      0.166      -2.684       0.462\n",
            "AdamShankman                     -0.6344      0.411     -1.544      0.123      -1.440       0.171\n",
            "AdamWingard                       0.0122      0.265      0.046      0.963      -0.508       0.532\n",
            "AdrianLyne                        0.0235      0.287      0.082      0.935      -0.539       0.586\n",
            "AlanJ.Pakula                      0.1892      0.291      0.649      0.516      -0.382       0.761\n",
            "AlanParker                        0.5591      0.293      1.911      0.056      -0.014       1.133\n",
            "AlejandroG.IÃ±Ã¡rritu            -0.3790      0.320     -1.186      0.236      -1.005       0.248\n",
            "AlexanderPayne                    0.2156      0.377      0.573      0.567      -0.523       0.954\n",
            "AlexandreAja                     -0.0003      0.506     -0.001      1.000      -0.992       0.991\n",
            "AlfonsoCuarÃ³n                    0.1376      0.320      0.430      0.667      -0.490       0.765\n",
            "AlfredHitchcock                   0.6155      0.249      2.471      0.014       0.127       1.104\n",
            "AllenHughes                      -0.3539      0.391     -0.906      0.365      -1.120       0.412\n",
            "AmyHeckerling                    -0.3813      0.374     -1.019      0.308      -1.115       0.352\n",
            "AndrewDavis                      -0.1010      0.286     -0.354      0.724      -0.661       0.459\n",
            "AndrewFleming                     0.0537      0.325      0.166      0.869      -0.583       0.690\n",
            "AndrewNiccol                      0.0747      0.362      0.206      0.837      -0.635       0.785\n",
            "AndrzejBartkowiak                -1.0298      0.450     -2.289      0.022      -1.912      -0.148\n",
            "AndyFickman                      -0.2896      0.347     -0.835      0.404      -0.969       0.390\n",
            "AndyTennant                      -0.0906      0.388     -0.233      0.816      -0.852       0.671\n",
            "AngLee                            0.0022      0.517      0.004      0.997      -1.011       1.016\n",
            "AnneFletcher                     -0.1905      0.610     -0.312      0.755      -1.387       1.006\n",
            "AnthonyRusso                     -0.4726      0.323     -1.462      0.144      -1.107       0.161\n",
            "AntoineFuqua                     -0.2316      0.263     -0.881      0.379      -0.747       0.284\n",
            "AtomEgoyan                       -0.7174      0.380     -1.890      0.059      -1.462       0.027\n",
            "BarryLevinson                    -0.4142      0.211     -1.960      0.050      -0.828       0.000\n",
            "BarrySonnenfeld                  -0.2104      0.351     -0.599      0.549      -0.899       0.478\n",
            "BenStiller                       -0.1669      0.334     -0.500      0.617      -0.822       0.488\n",
            "BettyThomas                      -0.6941      0.351     -1.978      0.048      -1.382      -0.006\n",
            "BillCondon                       -0.1983      0.333     -0.595      0.552      -0.851       0.455\n",
            "BillRoberts                       0.4115      1.042      0.395      0.693      -1.631       2.454\n",
            "BillyWilder                       0.4434      0.323      1.374      0.170      -0.189       1.076\n",
            "BlakeEdwards                      0.5904      0.273      2.160      0.031       0.055       1.126\n",
            "BoazYakin                         0.0243      0.376      0.065      0.949      -0.713       0.761\n",
            "BobbyFarrelly                     2.1067      0.998      2.111      0.035       0.150       4.064\n",
            "BradAnderson                     -0.0325      0.285     -0.114      0.909      -0.591       0.526\n",
            "BradBird                          0.2201      0.595      0.370      0.711      -0.946       1.386\n",
            "BradSilberling                   -0.1159      0.374     -0.310      0.757      -0.850       0.618\n",
            "BrettRatner                       0.2701      0.334      0.808      0.419      -0.385       0.925\n",
            "BrianDePalma                      0.0558      0.200      0.279      0.780      -0.337       0.448\n",
            "BrianLevant                      -0.7542      0.275     -2.744      0.006      -1.293      -0.215\n",
            "BrianRobbins                     -0.8185      0.486     -1.685      0.092      -1.771       0.134\n",
            "BryanSinger                       0.3219      0.353      0.912      0.362      -0.370       1.014\n",
            "CameronCrowe                      0.1317      0.296      0.444      0.657      -0.449       0.713\n",
            "CarlosSaldanha                   -0.2476      0.374     -0.662      0.508      -0.981       0.486\n",
            "Chan-wookPark                     0.1764      0.327      0.540      0.589      -0.464       0.817\n",
            "CharlesShyer                     -0.3226      0.375     -0.860      0.390      -1.058       0.413\n",
            "ChrisColumbus                    -0.4811      0.236     -2.040      0.041      -0.944      -0.019\n",
            "ChrisWeitz                       -0.1839      0.393     -0.468      0.640      -0.955       0.587\n",
            "ChristopherNolan                  0.3566      0.400      0.893      0.372      -0.427       1.140\n",
            "ChuckRussell                     -0.2461      0.350     -0.704      0.481      -0.932       0.439\n",
            "ClintEastwood                     0.0663      0.163      0.408      0.683      -0.253       0.385\n",
            "ClydeGeronimi                    -0.3277      0.669     -0.490      0.624      -1.640       0.984\n",
            "CurtisHanson                      0.0723      0.284      0.255      0.799      -0.485       0.629\n",
            "D.J.Caruso                       -0.0654      0.307     -0.213      0.832      -0.668       0.537\n",
            "DannyBoyle                        0.1789      0.356      0.503      0.615      -0.518       0.876\n",
            "DannyDeVito                      -0.0910      0.309     -0.294      0.769      -0.698       0.515\n",
            "DarrenAronofsky                   0.0334      0.311      0.107      0.915      -0.577       0.644\n",
            "DarrenLynnBousman                 0.0563      0.346      0.163      0.871      -0.622       0.734\n",
            "DavidAyer                        -0.1589      0.299     -0.531      0.595      -0.745       0.428\n",
            "DavidCronenberg                   0.1323      0.180      0.736      0.462      -0.220       0.485\n",
            "DavidDobkin                      -0.3494      0.350     -0.999      0.318      -1.035       0.337\n",
            "DavidFincher                     -0.1087      0.253     -0.430      0.667      -0.605       0.387\n",
            "DavidHand                        -0.0791      1.136     -0.070      0.945      -2.306       2.148\n",
            "DavidKoepp                        0.2352      0.398      0.592      0.554      -0.544       1.015\n",
            "DavidLean                         0.6771      0.409      1.657      0.098      -0.124       1.478\n",
            "DavidLynch                        0.3052      0.255      1.195      0.232      -0.196       0.806\n",
            "DavidO.Russell                   -0.1391      0.326     -0.427      0.670      -0.778       0.500\n",
            "DavidR.Ellis                     -1.0076      0.416     -2.424      0.015      -1.822      -0.193\n",
            "DavidTwohy                        2.2044      0.931      2.369      0.018       0.380       4.029\n",
            "DavidWain                        -0.4295      0.305     -1.408      0.159      -1.027       0.168\n",
            "DavidYates                       -0.1106      0.461     -0.240      0.810      -1.015       0.794\n",
            "DavidZucker                      -0.2147      0.374     -0.574      0.566      -0.949       0.519\n",
            "DenisVilleneuve                   0.3182      0.344      0.925      0.355      -0.356       0.992\n",
            "DennisDugan                       0.0460      0.271      0.170      0.865      -0.485       0.577\n",
            "DominicSena                      -0.1725      0.334     -0.516      0.606      -0.828       0.483\n",
            "DonBluth                          0.2871      0.386      0.744      0.457      -0.469       1.044\n",
            "DonSiegel                         0.7076      0.299      2.368      0.018       0.122       1.293\n",
            "DonaldPetrie                      0.0543      0.288      0.189      0.850      -0.510       0.619\n",
            "DougLiman                         0.1699      0.368      0.462      0.644      -0.551       0.891\n",
            "DwightH.Little                   -0.1326      0.306     -0.433      0.665      -0.733       0.468\n",
            "EdgarWright                       0.7533      0.495      1.521      0.128      -0.218       1.724\n",
            "EdwardZwick                      -0.1370      0.297     -0.461      0.645      -0.720       0.446\n",
            "EliRoth                          -0.6183      0.354     -1.746      0.081      -1.312       0.076\n",
            "EricDarnell                      -0.3696      0.400     -0.924      0.355      -1.154       0.415\n",
            "EthanCoen                         0.1193      0.097      1.235      0.217      -0.070       0.309\n",
            "F.GaryGray                        0.0983      0.316      0.312      0.755      -0.521       0.717\n",
            "FernandoMeirelles                -0.2232      0.540     -0.414      0.679      -1.281       0.835\n",
            "FrancisFordCoppola                0.0564      0.252      0.224      0.823      -0.438       0.551\n",
            "FrancisLawrence                   0.2327      0.432      0.539      0.590      -0.614       1.080\n",
            "FrankCoraci                      -0.0354      0.329     -0.108      0.914      -0.680       0.609\n",
            "FrankOz                           0.3745      0.269      1.392      0.164      -0.153       0.902\n",
            "GarryMarshall                    -0.1599      0.246     -0.650      0.516      -0.642       0.322\n",
            "GaryFleder                       -0.0089      0.327     -0.027      0.978      -0.650       0.632\n",
            "GavinHood                         0.2649      0.341      0.778      0.437      -0.403       0.933\n",
            "GeorgeA.Romero                    0.2190      0.298      0.734      0.463      -0.366       0.804\n",
            "GeorgeLucas                       0.1995      0.295      0.677      0.499      -0.379       0.778\n",
            "GeorgeMiller                     -0.2058      0.269     -0.766      0.444      -0.733       0.321\n",
            "GeorgeRoyHill                     0.5870      0.340      1.725      0.085      -0.080       1.254\n",
            "GeorgeTillmanJr.                 -0.2030      0.335     -0.607      0.544      -0.859       0.453\n",
            "GoreVerbinski                    -0.0908      0.309     -0.294      0.769      -0.697       0.515\n",
            "GregoryHoblit                    -0.0368      0.322     -0.114      0.909      -0.668       0.594\n",
            "GuillermodelToro                  0.0717      0.291      0.247      0.805      -0.498       0.642\n",
            "GusVanSant                       -0.0113      0.235     -0.048      0.962      -0.472       0.449\n",
            "GuyHamilton                      -0.3085      0.394     -0.784      0.433      -1.080       0.463\n",
            "GuyRitchie                        0.1817      0.280      0.648      0.517      -0.368       0.732\n",
            "HamiltonLuske                    -0.2952      1.355     -0.218      0.828      -2.953       2.362\n",
            "HaroldBecker                     -0.0857      0.337     -0.255      0.799      -0.746       0.574\n",
            "HaroldRamis                      -0.0138      0.282     -0.049      0.961      -0.567       0.539\n",
            "HayaoMiyazaki                    -0.1765      0.265     -0.665      0.506      -0.697       0.344\n",
            "HerbertRoss                       0.6355      0.406      1.566      0.118      -0.160       1.432\n",
            "HowardDeutch                      0.1121      0.283      0.396      0.692      -0.443       0.667\n",
            "HowardHawks                       0.7330      0.320      2.291      0.022       0.106       1.360\n",
            "IvanReitman                       0.0177      0.225      0.079      0.937      -0.423       0.459\n",
            "J.J.Abrams                        0.2322      0.484      0.480      0.631      -0.716       1.180\n",
            "J.LeeThompson                     0.3058      0.479      0.638      0.523      -0.634       1.245\n",
            "JackKinney                       -0.0104      3.486     -0.003      0.998      -6.846       6.825\n",
            "JackieChan                        0.3065      0.394      0.778      0.437      -0.466       1.079\n",
            "JakeKasdan                       -0.2356      0.495     -0.476      0.634      -1.206       0.735\n",
            "JamesAlgar                        0.0318      3.373      0.009      0.992      -6.582       6.646\n",
            "JamesCameron                      0.3983      0.281      1.419      0.156      -0.152       0.949\n",
            "JamesFoley                        0.0362      0.340      0.106      0.915      -0.631       0.704\n",
            "JamesGray                        -0.1555      0.402     -0.387      0.699      -0.943       0.632\n",
            "JamesL.Brooks                    -0.3013      0.327     -0.922      0.357      -0.942       0.339\n",
            "JamesMangold                     -0.1388      0.292     -0.476      0.634      -0.711       0.433\n",
            "JamesMcTeigue                    -0.4451      0.660     -0.675      0.500      -1.739       0.848\n",
            "JamesWan                          0.1909      0.423      0.452      0.651      -0.638       1.019\n",
            "JandeBont                        -0.4231      0.479     -0.884      0.377      -1.362       0.516\n",
            "JasonFriedberg                   -2.0790      0.188    -11.083      0.000      -2.447      -1.711\n",
            "JasonReitman                      0.3034      0.377      0.806      0.420      -0.435       1.042\n",
            "JaumeCollet-Serra                -0.1968      0.347     -0.567      0.571      -0.878       0.484\n",
            "JayChandrasekhar                 -1.1030      0.537     -2.055      0.040      -2.155      -0.051\n",
            "JayRoach                          0.0432      0.320      0.135      0.893      -0.585       0.671\n",
            "Jean-JacquesAnnaud               -0.1570      0.442     -0.355      0.722      -1.024       0.710\n",
            "Jean-PierreJeunet                -0.4837      0.497     -0.973      0.330      -1.458       0.491\n",
            "JeffWadlow                       -0.2978      0.312     -0.955      0.339      -0.909       0.313\n",
            "JerryZucker                       0.0278      0.361      0.077      0.939      -0.680       0.735\n",
            "JimJarmusch                       0.6897      0.251      2.751      0.006       0.198       1.181\n",
            "JimSheridan                      -0.6332      0.402     -1.577      0.115      -1.420       0.154\n",
            "JoeDante                          0.1378      0.311      0.443      0.658      -0.472       0.748\n",
            "JoeJohnston                      -0.0678      0.287     -0.237      0.813      -0.630       0.494\n",
            "JoeRusso                         -0.4726      0.323     -1.462      0.144      -1.107       0.161\n",
            "JoeWright                         0.2509      0.453      0.554      0.580      -0.638       1.140\n",
            "JoelCoen                          0.1193      0.097      1.235      0.217      -0.070       0.309\n",
            "JoelSchumacher                   -0.2120      0.187     -1.133      0.257      -0.579       0.155\n",
            "JohnBadham                        0.0871      0.223      0.390      0.696      -0.350       0.524\n",
            "JohnBoorman                      -0.1411      0.348     -0.405      0.685      -0.824       0.542\n",
            "JohnCarpenter                     0.8550      0.204      4.183      0.000       0.454       1.256\n",
            "JohnDahl                          0.2258      0.357      0.633      0.527      -0.474       0.926\n",
            "JohnFord                          0.4599      0.340      1.353      0.176      -0.207       1.126\n",
            "JohnG.Avildsen                   -0.3058      0.291     -1.051      0.293      -0.876       0.265\n",
            "JohnGlen                         -0.2257      0.222     -1.017      0.309      -0.661       0.209\n",
            "JohnHughes                        0.3573      0.246      1.450      0.147      -0.126       0.841\n",
            "JohnHuston                        0.4802      0.291      1.652      0.099      -0.090       1.050\n",
            "JohnLandis                        0.3659      0.265      1.381      0.167      -0.154       0.886\n",
            "JohnLasseter                     -0.5360      0.561     -0.955      0.340      -1.636       0.564\n",
            "JohnMadden                       -0.0373      0.287     -0.130      0.896      -0.599       0.524\n",
            "JohnMcTiernan                     0.3854      0.323      1.195      0.232      -0.247       1.018\n",
            "JohnMoore                        -0.9443      0.333     -2.834      0.005      -1.598      -0.291\n",
            "JohnMusker                        0.0916      0.232      0.394      0.693      -0.364       0.547\n",
            "JohnSchlesinger                  -0.1553      0.315     -0.493      0.622      -0.773       0.462\n",
            "JohnSingleton                    -0.2563      0.248     -1.033      0.302      -0.743       0.230\n",
            "JohnSturges                       0.7473      0.345      2.167      0.030       0.071       1.423\n",
            "JohnWoo                          -0.2401      0.270     -0.890      0.374      -0.769       0.289\n",
            "JonAmiel                          0.0163      0.323      0.050      0.960      -0.618       0.650\n",
            "JonFavreau                        0.1907      0.495      0.385      0.700      -0.781       1.162\n",
            "JonM.Chu                         -0.3470      0.627     -0.553      0.580      -1.577       0.883\n",
            "JonTurteltaub                     0.0387      0.274      0.141      0.888      -0.499       0.576\n",
            "JonathanDemme                    -0.1425      0.346     -0.412      0.681      -0.821       0.536\n",
            "JonathanLevine                   -0.0499      0.291     -0.172      0.864      -0.620       0.520\n",
            "JonathanLiebesman                -0.4514      0.396     -1.141      0.254      -1.227       0.324\n",
            "JonathanLynn                      0.1629      0.345      0.472      0.637      -0.513       0.839\n",
            "JosephRuben                       0.5279      0.296      1.784      0.075      -0.052       1.108\n",
            "JuddApatow                       -0.7372      0.376     -1.962      0.050      -1.474      -0.000\n",
            "Kar-WaiWong                       0.2308      0.335      0.688      0.491      -0.427       0.889\n",
            "KathrynBigelow                    0.0668      0.387      0.173      0.863      -0.691       0.825\n",
            "KeenenIvoryWayans                 0.6202      0.447      1.389      0.165      -0.255       1.496\n",
            "KenKwapis                        -0.0951      0.310     -0.307      0.759      -0.703       0.513\n",
            "KennethBranagh                   -0.1730      0.314     -0.550      0.582      -0.789       0.443\n",
            "KevinMacdonald                    0.0099      0.351      0.028      0.978      -0.679       0.698\n",
            "KevinReynolds                     0.0141      0.373      0.038      0.970      -0.716       0.745\n",
            "KevinSmith                       -0.0345      0.218     -0.158      0.874      -0.461       0.392\n",
            "LanaWachowski                    -0.0204      0.138     -0.148      0.882      -0.291       0.250\n",
            "LarsvonTrier                      0.1262      0.335      0.377      0.706      -0.530       0.782\n",
            "LasseHallstrÃ¶m                   0.2365      0.277      0.855      0.393      -0.306       0.779\n",
            "LawrenceKasdan                    0.1037      0.259      0.400      0.689      -0.405       0.612\n",
            "LeeTamahori                      -0.1959      0.263     -0.746      0.456      -0.711       0.319\n",
            "LeeUnkrich                        0.4876      0.448      1.088      0.277      -0.391       1.366\n",
            "LesMayfield                      -0.2065      0.301     -0.685      0.493      -0.797       0.384\n",
            "LillyWachowski                   -0.0204      0.138     -0.148      0.882      -0.291       0.250\n",
            "LouisLeterrier                   -0.2545      0.373     -0.682      0.496      -0.986       0.478\n",
            "LucBesson                         0.0989      0.224      0.442      0.659      -0.340       0.538\n",
            "M.NightShyamalan                 -0.8307      0.250     -3.322      0.001      -1.321      -0.340\n",
            "MalcolmD.Lee                     -0.1759      0.336     -0.524      0.600      -0.834       0.482\n",
            "MarcForster                       0.1226      0.305      0.402      0.688      -0.476       0.721\n",
            "MarkNeveldine                    -0.6880      0.421     -1.636      0.102      -1.513       0.137\n",
            "MarkWaters                       -0.2742      0.276     -0.995      0.320      -0.815       0.266\n",
            "MartinCampbell                   -0.2193      0.278     -0.790      0.430      -0.764       0.325\n",
            "MartinScorsese                    0.1057      0.179      0.591      0.555      -0.245       0.456\n",
            "MatthewVaughn                     0.0505      0.540      0.094      0.925      -1.008       1.109\n",
            "McG                              -0.2762      0.335     -0.824      0.410      -0.934       0.381\n",
            "MelBrooks                         0.6631      0.269      2.461      0.014       0.135       1.191\n",
            "MichaelApted                      0.0613      0.269      0.228      0.820      -0.466       0.588\n",
            "MichaelBay                       -0.4241      0.279     -1.520      0.129      -0.971       0.123\n",
            "MichaelCaton-Jones               -0.1841      0.348     -0.530      0.596      -0.866       0.498\n",
            "MichaelLehmann                   -0.0826      0.308     -0.268      0.789      -0.686       0.521\n",
            "MichaelMann                      -0.2560      0.223     -1.147      0.251      -0.693       0.182\n",
            "MichaelMoore                     -0.5686      0.356     -1.599      0.110      -1.266       0.129\n",
            "MichaelSpierig                   -0.2522      0.233     -1.082      0.279      -0.709       0.205\n",
            "MikeFlanagan                     -0.0276      0.460     -0.060      0.952      -0.929       0.874\n",
            "MikeMitchell                     -0.7937      0.408     -1.945      0.052      -1.594       0.007\n",
            "MikeNewell                       -0.1453      0.250     -0.582      0.561      -0.635       0.344\n",
            "MikeNichols                       0.3148      0.251      1.253      0.210      -0.178       0.807\n",
            "MilosForman                       0.1785      0.319      0.560      0.576      -0.447       0.804\n",
            "MimiLeder                        -0.5601      0.445     -1.257      0.209      -1.433       0.313\n",
            "NancyMeyers                      -0.4231      0.268     -1.580      0.114      -0.948       0.102\n",
            "NeilMarshall                      0.0039      0.305      0.013      0.990      -0.595       0.603\n",
            "NicholasStoller                   0.5253      0.873      0.602      0.548      -1.187       2.237\n",
            "NickCassavetes                    0.3258      0.608      0.535      0.592      -0.867       1.519\n",
            "NimrÃ³dAntal                      0.1601      0.297      0.539      0.590      -0.422       0.742\n",
            "NoahBaumbach                      0.4840      0.375      1.292      0.196      -0.251       1.219\n",
            "NoraEphron                       -0.5074      0.530     -0.957      0.339      -1.547       0.532\n",
            "NormanJewison                     0.5459      0.259      2.108      0.035       0.038       1.054\n",
            "OliverStone                      -0.4748      0.235     -2.023      0.043      -0.935      -0.015\n",
            "PaulFeig                         -0.2433      0.649     -0.375      0.708      -1.515       1.028\n",
            "PaulGreengrass                    0.3498      0.319      1.096      0.273      -0.276       0.976\n",
            "PaulSchrader                     -0.7756      0.489     -1.585      0.113      -1.735       0.184\n",
            "PaulThomasAnderson               -0.1020      0.268     -0.380      0.704      -0.628       0.424\n",
            "PaulVerhoeven                     0.1090      0.335      0.326      0.745      -0.547       0.766\n",
            "PaulW.S.Anderson                 -0.1117      0.247     -0.452      0.651      -0.596       0.373\n",
            "PaulWeitz                        -0.2676      0.285     -0.940      0.347      -0.826       0.291\n",
            "PedroAlmodÃ³var                  -0.1738      0.243     -0.715      0.475      -0.651       0.303\n",
            "PenelopeSpheeris                  0.2288      0.357      0.641      0.521      -0.471       0.928\n",
            "PeterBerg                         0.4160      0.459      0.906      0.365      -0.484       1.316\n",
            "PeterFarrelly                    -2.4067      0.959     -2.509      0.012      -4.287      -0.526\n",
            "PeterHewitt                      -0.1580      0.347     -0.456      0.648      -0.838       0.521\n",
            "PeterHyams                        0.0360      0.277      0.130      0.897      -0.508       0.580\n",
            "PeterJackson                      0.0645      0.752      0.086      0.932      -1.410       1.539\n",
            "PeterSegal                       -0.3838      0.236     -1.626      0.104      -0.847       0.079\n",
            "PeterSpierig                     -0.2522      0.233     -1.082      0.279      -0.709       0.205\n",
            "PeterWeir                         0.3170      0.274      1.157      0.247      -0.220       0.854\n",
            "PeytonReed                       -0.3983      0.371     -1.073      0.283      -1.126       0.330\n",
            "PhilipKaufman                     0.1952      0.333      0.586      0.558      -0.458       0.848\n",
            "PhillipNoyce                      0.0575      0.249      0.231      0.817      -0.430       0.545\n",
            "PierreMorel                      -0.2989      0.380     -0.787      0.432      -1.044       0.446\n",
            "QuentinTarantino                  0.6661      0.303      2.195      0.028       0.071       1.261\n",
            "RajaGosnell                      -0.9979      0.299     -3.338      0.001      -1.584      -0.412\n",
            "RennyHarlin                      -0.2277      0.205     -1.113      0.266      -0.629       0.174\n",
            "RianJohnson                       0.4846      0.379      1.280      0.201      -0.258       1.227\n",
            "RichardDonner                     0.3895      0.227      1.717      0.086      -0.055       0.834\n",
            "RichardFleischer                  0.5896      0.395      1.495      0.135      -0.184       1.363\n",
            "RichardLinklater                  0.2567      0.221      1.163      0.245      -0.176       0.689\n",
            "RidleyScott                      -0.1157      0.196     -0.590      0.555      -0.500       0.269\n",
            "RobCohen                         -0.1044      0.245     -0.425      0.671      -0.586       0.377\n",
            "RobMarshall                      -0.6748      0.368     -1.834      0.067      -1.396       0.047\n",
            "RobMinkoff                       -0.2727      0.336     -0.811      0.417      -0.932       0.386\n",
            "RobReiner                         0.5265      0.209      2.525      0.012       0.118       0.935\n",
            "RobZombie                        -0.4088      0.315     -1.296      0.195      -1.027       0.210\n",
            "RobertAltman                      0.0353      0.235      0.150      0.881      -0.426       0.497\n",
            "RobertLuketic                    -0.4892      0.308     -1.587      0.113      -1.094       0.115\n",
            "RobertRedford                    -0.0316      0.284     -0.111      0.911      -0.589       0.526\n",
            "RobertRodriguez                  -0.4722      0.200     -2.361      0.018      -0.864      -0.080\n",
            "RobertSchwentke                   0.0109      0.382      0.028      0.977      -0.739       0.761\n",
            "RobertWise                        0.6881      0.302      2.281      0.023       0.097       1.280\n",
            "RobertZemeckis                    0.0258      0.276      0.094      0.925      -0.514       0.566\n",
            "RogerDonaldson                    0.0725      0.244      0.297      0.766      -0.406       0.550\n",
            "RogerKumble                      -0.9627      0.298     -3.231      0.001      -1.547      -0.378\n",
            "RogerMichell                      0.0663      0.352      0.189      0.850      -0.624       0.756\n",
            "RogerSpottiswoode                -0.5714      0.317     -1.802      0.072      -1.193       0.050\n",
            "RolandEmmerich                   -0.6216      0.344     -1.808      0.071      -1.296       0.052\n",
            "RomanPolanski                     0.1965      0.260      0.756      0.450      -0.313       0.706\n",
            "RonClements                       0.0916      0.232      0.394      0.693      -0.364       0.547\n",
            "RonHoward                         0.1213      0.201      0.603      0.547      -0.273       0.516\n",
            "RonShelton                       -0.0439      0.377     -0.116      0.907      -0.783       0.695\n",
            "RonUnderwood                      0.6604      0.516      1.279      0.201      -0.352       1.673\n",
            "RussellMulcahy                    0.3432      0.631      0.544      0.586      -0.893       1.580\n",
            "SamMendes                         0.3271      0.330      0.991      0.322      -0.320       0.974\n",
            "SamRaimi                          0.5580      0.250      2.232      0.026       0.068       1.048\n",
            "SergioLeone                      -0.0791      0.494     -0.160      0.873      -1.047       0.889\n",
            "SethGordon                        0.0345      0.369      0.094      0.925      -0.689       0.758\n",
            "ShawnLevy                        -0.1876      0.257     -0.729      0.466      -0.692       0.317\n",
            "SidneyLumet                       0.1002      0.255      0.393      0.695      -0.400       0.601\n",
            "SimonWells                       -0.1428      0.331     -0.432      0.666      -0.791       0.506\n",
            "SimonWest                        -0.4101      0.281     -1.458      0.145      -0.962       0.142\n",
            "SimonWincer                       0.0874      0.328      0.267      0.790      -0.555       0.730\n",
            "SofiaCoppola                     -0.5616      0.466     -1.205      0.228      -1.476       0.353\n",
            "SpikeLee                          0.0785      0.244      0.321      0.748      -0.401       0.558\n",
            "StanleyKubrick                    0.1570      0.273      0.576      0.565      -0.378       0.692\n",
            "StephenDaldry                     0.3473      0.412      0.842      0.400      -0.461       1.156\n",
            "StephenFrears                    -0.0895      0.278     -0.322      0.748      -0.635       0.456\n",
            "StephenHerek                     -0.1636      0.278     -0.588      0.556      -0.709       0.382\n",
            "StephenHopkins                   -0.2539      0.319     -0.795      0.427      -0.880       0.372\n",
            "StephenSommers                    0.2688      0.319      0.844      0.399      -0.356       0.893\n",
            "SteveCarr                        -0.4986      0.387     -1.287      0.198      -1.258       0.261\n",
            "SteveMiner                        0.2988      0.287      1.040      0.299      -0.265       0.862\n",
            "StevenBrill                      -0.1283      0.328     -0.391      0.696      -0.772       0.515\n",
            "StevenSoderbergh                 -0.4576      0.262     -1.745      0.081      -0.972       0.057\n",
            "StevenSpielberg                   0.2474      0.185      1.338      0.181      -0.115       0.610\n",
            "SusanneBier                       0.2486      0.399      0.622      0.534      -0.535       1.032\n",
            "SydneyPollack                     0.0471      0.299      0.158      0.875      -0.538       0.633\n",
            "SylvesterStallone                -0.5249      0.309     -1.699      0.089      -1.130       0.081\n",
            "TarsemSingh                       0.7143      0.428      1.669      0.095      -0.125       1.554\n",
            "TaylorHackford                    0.2014      0.313      0.643      0.520      -0.413       0.815\n",
            "TerrenceMalick                   -0.0956      0.266     -0.359      0.720      -0.618       0.427\n",
            "TerryGilliam                      0.1356      0.213      0.637      0.524      -0.282       0.553\n",
            "TiWest                           -0.8512      0.648     -1.314      0.189      -2.121       0.419\n",
            "TimBurton                        -0.0766      0.211     -0.362      0.717      -0.491       0.338\n",
            "TimStory                         -0.1228      0.326     -0.377      0.706      -0.762       0.516\n",
            "ToddHaynes                        0.3074      0.338      0.909      0.364      -0.356       0.971\n",
            "ToddPhillips                     -0.1151      0.312     -0.369      0.712      -0.727       0.497\n",
            "TomMcGrath                        0.0569      0.455      0.125      0.901      -0.836       0.949\n",
            "TomShadyac                        0.1530      0.299      0.512      0.609      -0.433       0.739\n",
            "TomTykwer                         0.0864      0.295      0.293      0.769      -0.492       0.664\n",
            "TomVaughan                       -0.0028      0.392     -0.007      0.994      -0.772       0.767\n",
            "TonyScott                         0.1543      0.218      0.708      0.479      -0.273       0.582\n",
            "UweBoll                          -2.0818      0.271     -7.673      0.000      -2.614      -1.550\n",
            "WalterHill                        0.2030      0.295      0.688      0.492      -0.375       0.781\n",
            "WernerHerzog                      0.3513      0.305      1.153      0.249      -0.246       0.949\n",
            "WesAnderson                       0.4725      0.274      1.727      0.084      -0.064       1.009\n",
            "WesCraven                        -0.0748      0.260     -0.288      0.773      -0.584       0.435\n",
            "WilfredJackson                    0.0831      1.255      0.066      0.947      -2.378       2.544\n",
            "WillGluck                        -0.3852      0.409     -0.942      0.346      -1.187       0.416\n",
            "WilliamFriedkin                   0.0066      0.270      0.024      0.981      -0.523       0.537\n",
            "WimWenders                        0.2082      0.382      0.545      0.586      -0.541       0.957\n",
            "WolfgangPetersen                 -0.3040      0.312     -0.975      0.330      -0.916       0.308\n",
            "WolfgangReitherman                0.0044      0.510      0.009      0.993      -0.995       1.004\n",
            "WoodyAllen                        0.6093      0.148      4.116      0.000       0.319       0.899\n",
            "YimouZhang                        0.0789      0.364      0.217      0.828      -0.634       0.792\n",
            "ZackSnyder                        0.2776      0.320      0.866      0.386      -0.351       0.906\n",
            "AaronSorkin                      -0.3256      0.276     -1.180      0.238      -0.867       0.215\n",
            "AbbyKohn                         -0.3173      0.199     -1.592      0.111      -0.708       0.073\n",
            "AdamBrooks                       -0.0802      0.364     -0.221      0.825      -0.793       0.633\n",
            "AdamCooper                       -0.3790      0.182     -2.079      0.038      -0.736      -0.022\n",
            "AdamHerz                         -0.2692      0.427     -0.631      0.528      -1.106       0.567\n",
            "AdamRifkin                       -0.3193      0.374     -0.855      0.393      -1.052       0.413\n",
            "AdamSandler                      -1.6722      0.274     -6.108      0.000      -2.209      -1.135\n",
            "AdamSmall                        -0.3783      0.255     -1.484      0.138      -0.878       0.122\n",
            "AkiraKurosawa                     0.4289      0.312      1.374      0.169      -0.183       1.041\n",
            "AkivaGoldsman                    -0.5565      0.240     -2.320      0.020      -1.027      -0.086\n",
            "AlainGodard                       0.2566      0.537      0.478      0.633      -0.797       1.310\n",
            "AlanB.McElroy                    -0.7736      0.317     -2.443      0.015      -1.395      -0.153\n",
            "AlanJayLerner                     0.1350      0.345      0.392      0.695      -0.541       0.811\n",
            "AlbertHackett                     0.2828      0.189      1.494      0.135      -0.088       0.654\n",
            "AlecSokolow                      -0.4493      0.181     -2.484      0.013      -0.804      -0.095\n",
            "AlejandroAmenÃ¡bar                0.3913      0.391      1.002      0.316      -0.374       1.157\n",
            "AlexGarland                      -0.0987      0.311     -0.318      0.751      -0.708       0.510\n",
            "AlexKurtzman                     -0.1908      0.764     -0.250      0.803      -1.689       1.307\n",
            "AlexandreDumas                    0.0097      0.355      0.027      0.978      -0.687       0.707\n",
            "AlfredGough                      -0.2004      0.184     -1.092      0.275      -0.560       0.159\n",
            "AlineBroshMcKenna                -0.3344      0.266     -1.257      0.209      -0.856       0.187\n",
            "AllanLoeb                        -0.6703      0.281     -2.387      0.017      -1.221      -0.120\n",
            "AllenCovert                      -0.3069      0.910     -0.337      0.736      -2.091       1.477\n",
            "AllisonBurnett                   -0.1667      0.313     -0.532      0.595      -0.781       0.448\n",
            "AlvinSargent                      0.2665      0.390      0.684      0.494      -0.498       1.031\n",
            "AmandaSilver                     -0.1667      0.706     -0.236      0.813      -1.551       1.217\n",
            "AmyHoldenJones                   -0.3999      0.429     -0.932      0.351      -1.241       0.441\n",
            "AndersThomasJensen               -0.1778      0.427     -0.416      0.677      -1.015       0.659\n",
            "AndrewAdamson                    -0.4471      0.506     -0.884      0.377      -1.439       0.544\n",
            "AndrewBergman                    -0.4709      0.332     -1.419      0.156      -1.121       0.180\n",
            "AndrewDavies                     -0.2308      0.357     -0.646      0.518      -0.931       0.469\n",
            "AndrewJayCohen                 9.065e-16    9.6e-16      0.944      0.345   -9.76e-16    2.79e-15\n",
            "AndrewKevinWalker                 0.2455      0.353      0.696      0.486      -0.446       0.937\n",
            "AndrewStanton                     0.1934      0.371      0.522      0.602      -0.534       0.921\n",
            "AnnaBoden                        -0.0452      0.229     -0.197      0.844      -0.495       0.405\n",
            "AnthonyMcCarten                  -0.1468      0.806     -0.182      0.856      -1.727       1.434\n",
            "AnthonyMinghella                 -0.3193      0.370     -0.863      0.388      -1.045       0.406\n",
            "AnthonyShaffer                    0.5776      0.312      1.851      0.064      -0.034       1.189\n",
            "ArtMarcum                        -0.1135      0.236     -0.481      0.630      -0.576       0.349\n",
            "ArthurConanDoyle                 -0.3323      0.453     -0.734      0.463      -1.220       0.555\n",
            "AudreyWells                       0.0167      0.304      0.055      0.956      -0.579       0.613\n",
            "BabalooMandel                     0.0051      0.124      0.042      0.967      -0.237       0.247\n",
            "BarryW.Blaustein                 -0.3639      0.199     -1.833      0.067      -0.753       0.025\n",
            "BazLuhrmann                      -0.1420      0.859     -0.165      0.869      -1.827       1.543\n",
            "BenAffleck                       -0.0385      0.424     -0.091      0.928      -0.870       0.793\n",
            "BennettYellin                    -1.9120      0.495     -3.866      0.000      -2.882      -0.942\n",
            "BernardoBertolucci               -0.1329      0.874     -0.152      0.879      -1.846       1.580\n",
            "BeverleyCross                     0.9853      0.409      2.408      0.016       0.183       1.788\n",
            "BillCollage                      -0.3790      0.182     -2.079      0.038      -0.736      -0.022\n",
            "BillFinger                     2.277e-16   8.87e-16      0.257      0.798   -1.51e-15    1.97e-15\n",
            "BillPeet                          0.8746      1.658      0.528      0.598      -2.376       4.125\n",
            "BillWalsh                        -0.5587      0.593     -0.943      0.346      -1.721       0.603\n",
            "BillyRay                         -0.5610      0.244     -2.296      0.022      -1.040      -0.082\n",
            "BoGoldman                         0.2238      0.360      0.621      0.534      -0.482       0.930\n",
            "BobClark                          0.2485      0.378      0.658      0.511      -0.492       0.989\n",
            "BobGale                           0.8977      0.536      1.674      0.094      -0.154       1.949\n",
            "BobKane                           0.4239      0.318      1.332      0.183      -0.200       1.048\n",
            "BobPeterson                      -0.2969      0.499     -0.595      0.552      -1.275       0.681\n",
            "BobTzudiker                      -0.3870      0.249     -1.557      0.120      -0.874       0.100\n",
            "BonnieTurner                      0.1952      0.200      0.976      0.329      -0.197       0.588\n",
            "BradCopeland                     -0.7981      0.555     -1.438      0.150      -1.886       0.290\n",
            "BramStoker                       -0.2254      0.362     -0.622      0.534      -0.935       0.485\n",
            "BrendaChapman                    -1.2091      2.389     -0.506      0.613      -5.894       3.476\n",
            "BrendanO'Brien                -2.306e-16   8.91e-16     -0.259      0.796   -1.98e-15    1.52e-15\n",
            "BrentMaddock                      0.0051      0.177      0.029      0.977      -0.341       0.352\n",
            "BretEastonEllis                  -0.6279      0.347     -1.809      0.071      -1.308       0.053\n",
            "BrianGarfield                     0.2105      0.411      0.513      0.608      -0.594       1.015\n",
            "BrianHelgeland                   -0.1828      0.193     -0.946      0.344      -0.562       0.196\n",
            "BrianKoppelman                    0.3367      0.647      0.520      0.603      -0.933       1.606\n",
            "BrianLynch                       -0.7432      0.434     -1.712      0.087      -1.594       0.108\n",
            "BrianPimental                    -2.6332      2.947     -0.894      0.372      -8.411       3.145\n",
            "BrianTaylor                       0.3215      0.452      0.711      0.477      -0.565       1.208\n",
            "BruceA.Evans                     -0.0756      0.167     -0.454      0.650      -0.402       0.251\n",
            "BruceGeller                       0.3656      0.500      0.731      0.465      -0.615       1.346\n",
            "BruceJoelRubin                   -0.0503      0.350     -0.144      0.886      -0.737       0.636\n",
            "BruceRobinson                    -0.1743      0.339     -0.514      0.607      -0.839       0.490\n",
            "BuckHenry                         0.3292      0.421      0.782      0.434      -0.496       1.155\n",
            "BuddyJohnson                      0.4269      0.307      1.390      0.165      -0.175       1.029\n",
            "BurnyMattinson                    1.7470      1.937      0.902      0.367      -2.051       5.545\n",
            "CareyW.Hayes                     -0.1443      0.234     -0.615      0.538      -0.604       0.315\n",
            "CarlEllsworth                    -0.0047      0.456     -0.010      0.992      -0.898       0.889\n",
            "CarlForeman                       0.4453      0.467      0.954      0.340      -0.470       1.360\n",
            "CarlGottlieb                     -1.6477      0.978     -1.684      0.092      -3.566       0.270\n",
            "CarloBernard                      0.1199      0.179      0.669      0.504      -0.231       0.471\n",
            "CarolineThompson                  0.5449      0.289      1.885      0.059      -0.022       1.111\n",
            "ChadHayes                        -0.1443      0.234     -0.615      0.538      -0.604       0.315\n",
            "CharlesChaplin                    0.8866      0.334      2.657      0.008       0.232       1.541\n",
            "CharlesDickens                   -0.1845      0.314     -0.587      0.557      -0.801       0.432\n",
            "CharlesLeavitt                    0.5399      0.407      1.326      0.185      -0.258       1.338\n",
            "CharlesPerrault                   0.3717      0.462      0.805      0.421      -0.534       1.277\n",
            "CharlieKaufman                    0.4159      0.326      1.276      0.202      -0.223       1.055\n",
            "ChrisMatheson                     0.0678      0.477      0.142      0.887      -0.867       1.003\n",
            "ChrisMcKenna                      0.1627      0.559      0.291      0.771      -0.934       1.259\n",
            "ChrisMiller                       0.1549      0.464      0.334      0.738      -0.754       1.064\n",
            "ChrisMorgan                      -0.0592      0.305     -0.194      0.846      -0.658       0.539\n",
            "ChrisSanders                      0.1508      0.557      0.271      0.787      -0.941       1.243\n",
            "ChrisSparling                    -0.6581      0.463     -1.422      0.155      -1.566       0.249\n",
            "ChrisVanAllsburg                  0.1783      0.578      0.309      0.758      -0.955       1.311\n",
            "ChrisViscardi                    -0.3188      0.176     -1.809      0.070      -0.664       0.027\n",
            "ChrisWilliams                    -0.0042      0.638     -0.007      0.995      -1.254       1.246\n",
            "ChristopherFord                   0.0675      0.459      0.147      0.883      -0.831       0.967\n",
            "ChristopherHampton               -0.1759      0.332     -0.530      0.596      -0.827       0.475\n",
            "ChristopherLandon                -0.0570      0.372     -0.153      0.878      -0.786       0.672\n",
            "ChristopherLeitch                -0.3487      0.225     -1.550      0.121      -0.790       0.092\n",
            "ChristopherMarkus                 0.0077      0.211      0.037      0.971      -0.406       0.421\n",
            "ChristopherMcQuarrie             -0.6273      0.387     -1.623      0.105      -1.385       0.131\n",
            "ChristopherWilkinson              0.0267      0.269      0.099      0.921      -0.500       0.554\n",
            "ChuckPfarrer                     -0.0956      0.453     -0.211      0.833      -0.984       0.793\n",
            "CincoPaul                        -0.0373      0.163     -0.229      0.819      -0.357       0.282\n",
            "CliveBarker                      -0.0209      0.268     -0.078      0.938      -0.546       0.504\n",
            "CormacMcCarthy                   -0.7422      0.385     -1.925      0.054      -1.498       0.014\n",
            "CormacWibberley                  -0.0123      0.156     -0.079      0.937      -0.318       0.294\n",
            "CoryGoodman                      -0.2419      0.378     -0.640      0.522      -0.983       0.499\n",
            "CraigBrewer                      -0.2868      0.349     -0.823      0.411      -0.970       0.397\n",
            "CraigMazin                       -0.5589      0.407     -1.372      0.170      -1.358       0.240\n",
            "CraigPearce                      -0.1916      0.766     -0.250      0.802      -1.693       1.309\n",
            "CraigRosenberg                   -0.3262      0.428     -0.762      0.446      -1.166       0.514\n",
            "CraigTitley                       0.2037      0.454      0.449      0.654      -0.686       1.094\n",
            "CyrusVoris                        0.1788      0.170      1.050      0.294      -0.155       0.513\n",
            "DaleLauner                       -0.2714      0.339     -0.801      0.423      -0.936       0.393\n",
            "DaltonTrumbo                      0.0856      0.510      0.168      0.867      -0.913       1.085\n",
            "DamonLindelof                    -0.3765      0.421     -0.894      0.371      -1.202       0.449\n",
            "DanAykroyd                       -0.4398      0.293     -1.499      0.134      -1.015       0.136\n",
            "DanFogelman                      -0.2844      0.316     -0.899      0.369      -0.905       0.336\n",
            "DanGilroy                        -0.0231      0.419     -0.055      0.956      -0.844       0.798\n",
            "DanGordon                         0.0208      0.349      0.060      0.952      -0.663       0.704\n",
            "DanHageman                        0.5359      0.496      1.080      0.280      -0.437       1.509\n",
            "DanMazer                         -0.6516      0.413     -1.579      0.114      -1.461       0.158\n",
            "DanO'Bannon                       0.4944      0.458      1.079      0.281      -0.404       1.393\n",
            "DanaFox                          -0.2421      0.397     -0.609      0.542      -1.021       0.537\n",
            "DanaOlsen                        -0.9350      0.412     -2.272      0.023      -1.742      -0.128\n",
            "DanielPetrieJr.                   0.2963      0.336      0.881      0.378      -0.363       0.955\n",
            "DanielPyne                        0.4853      0.383      1.268      0.205      -0.265       1.235\n",
            "DanielWaters                     -0.0025      0.297     -0.009      0.993      -0.586       0.581\n",
            "DannyMcBride                      0.6118      0.647      0.946      0.344      -0.656       1.880\n",
            "DaphneDuMaurier                   0.0342      0.478      0.072      0.943      -0.903       0.972\n",
            "DarioArgento                      0.6160      0.355      1.736      0.083      -0.080       1.312\n",
            "DarrenLemke                      -0.0878      0.386     -0.228      0.820      -0.845       0.669\n",
            "DarrylPonicsan                   -0.5771      0.482     -1.196      0.232      -1.523       0.369\n",
            "DarrylQuarles                    -0.6450      0.433     -1.491      0.136      -1.493       0.203\n",
            "DaveCallaham                      0.1135      0.306      0.371      0.711      -0.486       0.713\n",
            "DavidBenioff                     -0.1076      0.345     -0.312      0.755      -0.785       0.570\n",
            "DavidBerenbaum                   -0.3421      0.425     -0.806      0.420      -1.175       0.490\n",
            "DavidDiamond                     -0.2686      0.177     -1.515      0.130      -0.616       0.079\n",
            "DavidFranzoni                     0.6188      0.497      1.246      0.213      -0.355       1.593\n",
            "DavidGiler                        0.2108      0.402      0.524      0.600      -0.578       0.999\n",
            "DavidHare                         0.3806      0.771      0.494      0.621      -1.130       1.892\n",
            "DavidHayter                      -0.1368      0.403     -0.340      0.734      -0.926       0.652\n",
            "DavidJ.Schow                      0.6327      0.492      1.285      0.199      -0.333       1.598\n",
            "DavidKajganich                   -0.2963      0.398     -0.744      0.457      -1.077       0.484\n",
            "DavidKirschner                    0.1253      0.381      0.329      0.742      -0.622       0.873\n",
            "DavidLeslieJohnson-McGoldrick    -0.9522      0.867     -1.099      0.272      -2.651       0.747\n",
            "DavidLevien                      -0.6101      0.779     -0.783      0.434      -2.138       0.918\n",
            "DavidLindsay-Abaire              -0.2509      0.296     -0.847      0.397      -0.832       0.330\n",
            "DavidLoughery                    -0.2935      0.313     -0.936      0.349      -0.908       0.321\n",
            "DavidLowery                       0.4095      0.457      0.895      0.371      -0.487       1.306\n",
            "DavidMagee                        0.6731      0.458      1.470      0.142      -0.225       1.571\n",
            "DavidMamet                        0.2647      0.223      1.185      0.236      -0.173       0.703\n",
            "DavidMcKenna                     -0.1054      0.375     -0.281      0.779      -0.840       0.630\n",
            "DavidMichener                     1.7356      2.079      0.835      0.404      -2.340       5.811\n",
            "DavidMichÃ´d                      0.1832      0.413      0.443      0.658      -0.628       0.994\n",
            "DavidMorrell                      0.5509      0.368      1.497      0.134      -0.170       1.272\n",
            "DavidN.Weiss                     -0.6157      0.972     -0.633      0.527      -2.522       1.290\n",
            "DavidNewman                       0.7506      0.460      1.633      0.103      -0.150       1.652\n",
            "DavidNicholls                     0.2464      0.421      0.585      0.559      -0.579       1.072\n",
            "DavidReynolds                    -0.1817      0.503     -0.361      0.718      -1.169       0.805\n",
            "DavidRonn                        -0.2544      0.152     -1.671      0.095      -0.553       0.044\n",
            "DavidS.Goyer                     -0.5163      0.286     -1.803      0.071      -1.078       0.045\n",
            "DavidS.Ward                      -0.0519      0.338     -0.153      0.878      -0.715       0.611\n",
            "DavidSelf                        -0.4219      0.388     -1.086      0.278      -1.184       0.340\n",
            "DavidSeltzer                      0.0008      0.313      0.002      0.998      -0.614       0.615\n",
            "DavidSheffield                   -0.3639      0.199     -1.833      0.067      -0.753       0.025\n",
            "DavidWebbPeoples                  0.7390      0.421      1.756      0.079      -0.086       1.564\n",
            "DavidWeissman                    -0.2686      0.177     -1.515      0.130      -0.616       0.079\n",
            "DeanDeBlois                       0.3615      0.427      0.846      0.398      -0.476       1.200\n",
            "DeanDevlin                        0.2518      0.466      0.540      0.589      -0.662       1.166\n",
            "DeanGeorgaris                     0.0175      0.420      0.042      0.967      -0.807       0.842\n",
            "DeborahKaplan                    -0.0493      0.163     -0.303      0.762      -0.368       0.270\n",
            "DebraHill                        -0.7585      0.255     -2.970      0.003      -1.259      -0.258\n",
            "DeliaEphron                      -0.2842      0.560     -0.507      0.612      -1.383       0.815\n",
            "DennisFeldman                    -0.1063      0.331     -0.322      0.748      -0.755       0.542\n",
            "DennisLehane                      0.2701      0.527      0.512      0.609      -0.764       1.304\n",
            "DerekHaas                        -0.1527      0.219     -0.697      0.486      -0.582       0.277\n",
            "DestinDanielCretton               1.0355      0.647      1.601      0.109      -0.233       2.304\n",
            "DiabloCody                       -1.0414      0.495     -2.102      0.036      -2.013      -0.070\n",
            "DickClement                       0.0234      0.171      0.136      0.891      -0.312       0.359\n",
            "DonCoscarelli                     0.8558      0.326      2.622      0.009       0.216       1.496\n",
            "DonDaGradi                        1.3726      0.749      1.833      0.067      -0.095       2.841\n",
            "DonDougherty                      1.0253      0.872      1.176      0.240      -0.684       2.734\n",
            "DonHall                           0.1069      0.294      0.364      0.716      -0.469       0.683\n",
            "DonHeck                          -0.5520      0.915     -0.603      0.546      -2.346       1.242\n",
            "DonJakoby                        -0.2938      0.426     -0.690      0.490      -1.129       0.541\n",
            "DonMancini                       -0.6009      0.336     -1.786      0.074      -1.260       0.059\n",
            "DonPayne                         -0.4525      0.492     -0.919      0.358      -1.418       0.513\n",
            "DonRhymer                        -0.3669      0.303     -1.211      0.226      -0.961       0.227\n",
            "DonRoos                          -0.1157      0.356     -0.325      0.745      -0.813       0.582\n",
            "DonaldE.Stewart                   0.6907      0.739      0.934      0.350      -0.759       2.141\n",
            "DonaldE.Westlake                 -0.1814      0.404     -0.449      0.653      -0.973       0.611\n",
            "DougMiro                          0.1199      0.179      0.669      0.504      -0.231       0.471\n",
            "DougRichardson                   -0.0289      0.334     -0.087      0.931      -0.683       0.625\n",
            "Dr.Seuss                         -0.2697      0.372     -0.725      0.469      -0.999       0.460\n",
            "DrewDowdle                        0.2234      0.197      1.135      0.257      -0.163       0.609\n",
            "DrewGoddard                       0.1986      0.443      0.448      0.654      -0.670       1.068\n",
            "DrewPearce                        0.5856      0.722      0.811      0.418      -0.831       2.002\n",
            "DuaneAdler                       -0.3185      0.436     -0.730      0.466      -1.174       0.537\n",
            "EdDecter                         -0.0359      0.147     -0.244      0.807      -0.324       0.252\n",
            "EdGombert                        -1.7888      3.898     -0.459      0.646      -9.431       5.854\n",
            "EdSolomon                         0.1951      0.411      0.475      0.635      -0.610       1.000\n",
            "EddieMurphy                      -0.1937      0.310     -0.625      0.532      -0.801       0.414\n",
            "EdwardNeumeier                    0.3970      0.728      0.545      0.586      -1.031       1.825\n",
            "EdwardTang                        0.3402      0.335      1.016      0.310      -0.317       0.997\n",
            "EhrenKruger                      -0.3620      0.248     -1.462      0.144      -0.847       0.124\n",
            "ElizabethChandler                -0.0207      0.370     -0.056      0.955      -0.746       0.705\n",
            "ElmoreLeonard                    -0.4713      0.286     -1.647      0.100      -1.032       0.090\n",
            "EmmaThompson                      0.2651      0.651      0.407      0.684      -1.011       1.542\n",
            "ErdmanPenner                     -0.2576      1.923     -0.134      0.893      -4.028       3.512\n",
            "EricBernt                        -0.1546      0.398     -0.389      0.697      -0.934       0.625\n",
            "EricHeisserer                    -0.4806      0.363     -1.323      0.186      -1.193       0.232\n",
            "EricIdle                          0.0507      0.364      0.139      0.889      -0.663       0.765\n",
            "EricRed                           0.2080      0.397      0.524      0.601      -0.571       0.987\n",
            "EricRoth                         -0.3454      0.231     -1.496      0.135      -0.798       0.107\n",
            "ErichHoeber                       0.0809      0.222      0.364      0.716      -0.354       0.516\n",
            "ErikStolhanske                    0.2367      0.129      1.836      0.066      -0.016       0.490\n",
            "ErnestLehman                      0.0322      0.269      0.120      0.904      -0.495       0.559\n",
            "ErnestTidyman                     0.7012      0.548      1.279      0.201      -0.374       1.776\n",
            "EtanCohen                        -0.5402      0.347     -1.556      0.120      -1.221       0.141\n",
            "EthanReiff                        0.1788      0.170      1.050      0.294      -0.155       0.513\n",
            "EvanDaugherty                    -0.5976      0.405     -1.476      0.140      -1.391       0.196\n",
            "EvanGoldberg                     -0.1309      0.465     -0.281      0.779      -1.043       0.782\n",
            "EvanSpiliotopoulos                0.0459      0.433      0.106      0.916      -0.802       0.894\n",
            "FaxBahr                          -0.3783      0.255     -1.484      0.138      -0.878       0.122\n",
            "FranWalsh                         0.4225      0.841      0.503      0.615      -1.226       2.071\n",
            "FrancesGoodrich                   0.2828      0.189      1.494      0.135      -0.088       0.654\n",
            "FrancisGlebas                    -0.9573      1.894     -0.505      0.613      -4.671       2.757\n",
            "FrancisVeber                     -0.4115      0.327     -1.258      0.209      -1.053       0.230\n",
            "FrankDarabont                     0.4085      0.349      1.169      0.243      -0.277       1.094\n",
            "FrankMiller                      -0.9033      0.291     -3.108      0.002      -1.473      -0.333\n",
            "FrankPierson                      0.2948      0.411      0.717      0.473      -0.511       1.101\n",
            "FrankS.Nugent                     0.1314      0.564      0.233      0.816      -0.974       1.237\n",
            "FranÃ§oisOzon                    -0.2516      0.462     -0.544      0.586      -1.158       0.655\n",
            "FredDekker                        0.2367      0.393      0.602      0.547      -0.534       1.008\n",
            "FredWolf                         -0.0523      0.271     -0.193      0.847      -0.584       0.480\n",
            "GaleAnneHurd                     -0.0641      0.541     -0.119      0.906      -1.125       0.996\n",
            "GarethEvans                       0.2882      0.531      0.542      0.588      -0.754       1.330\n",
            "GaryGoldman                       0.2513      0.618      0.407      0.684      -0.959       1.462\n",
            "GaryRoss                          0.2889      0.256      1.130      0.259      -0.213       0.790\n",
            "GaryScottThompson                -0.0440      0.272     -0.162      0.872      -0.577       0.489\n",
            "GeneQuintano                     -0.0537      0.360     -0.149      0.881      -0.759       0.652\n",
            "GeneRoddenberry                   0.6935      0.762      0.910      0.363      -0.800       2.187\n",
            "GeorgeClaytonJohnson              0.1995      0.441      0.453      0.651      -0.665       1.064\n",
            "GeorgeGallo                       0.0624      0.280      0.223      0.824      -0.487       0.611\n",
            "GeorgeNolfi                      -0.3329      0.344     -0.967      0.334      -1.008       0.342\n",
            "GeraldDiPego                     -1.0455      0.481     -2.172      0.030      -1.989      -0.102\n",
            "GinaWendkos                      -0.6408      0.348     -1.841      0.066      -1.323       0.042\n",
            "GiuseppeTornatore                 0.2922      0.341      0.857      0.391      -0.376       0.961\n",
            "GlenMorgan                       -0.1227      0.383     -0.321      0.749      -0.873       0.628\n",
            "GlennBerger                      -0.2680      0.154     -1.743      0.081      -0.570       0.033\n",
            "GlennFicarra                     -0.1396      0.154     -0.904      0.366      -0.442       0.163\n",
            "GrahamChapman                     0.0507      0.364      0.139      0.889      -0.663       0.765\n",
            "GrahamYost                        0.3257      0.423      0.770      0.442      -0.504       1.156\n",
            "GregGlienna                      -0.4314      0.476     -0.907      0.365      -1.364       0.502\n",
            "GregoryPoirier                   -0.4318      0.430     -1.005      0.315      -1.275       0.411\n",
            "GregoryWiden                     -0.0399      0.435     -0.092      0.927      -0.892       0.812\n",
            "GrÃ©goryLevasseur                -0.1896      0.684     -0.277      0.781      -1.530       1.151\n",
            "GuillaumeLaurant                  1.1150      0.622      1.793      0.073      -0.104       2.334\n",
            "GuillermoArriaga                  0.3319      0.349      0.950      0.342      -0.353       1.017\n",
            "GurinderChadha                    0.0640      0.222      0.289      0.773      -0.371       0.498\n",
            "GÃ©rardBrach                      0.0550      0.342      0.161      0.872      -0.616       0.726\n",
            "HarkTsui                          0.5694      0.391      1.457      0.145      -0.197       1.336\n",
            "HarrisGoldberg                   -0.8746      0.441     -1.984      0.047      -1.739      -0.010\n",
            "HarryElfont                      -0.0493      0.163     -0.303      0.762      -0.368       0.270\n",
            "HarryJulianFink                   0.2217      0.156      1.425      0.154      -0.083       0.527\n",
            "HarveBennett                     -0.0872      0.840     -0.104      0.917      -1.733       1.559\n",
            "HaydenSchlossberg                 0.0977      0.200      0.487      0.626      -0.295       0.491\n",
            "HerschelWeingrod                 -0.2955      0.728     -0.406      0.685      -1.722       1.131\n",
            "HosseinAmini                     -0.2684      0.291     -0.924      0.356      -0.838       0.301\n",
            "HughWilson                       -0.1225      0.727     -0.168      0.866      -1.548       1.303\n",
            "IanFleming                        0.0661      0.324      0.204      0.838      -0.568       0.701\n",
            "IanLaFrenais                      0.0234      0.171      0.136      0.891      -0.312       0.359\n",
            "IceCube                           0.1699      0.349      0.487      0.626      -0.515       0.854\n",
            "IreneMecchi                       0.8489      2.504      0.339      0.735      -4.061       5.759\n",
            "IvanRaimi                        -0.4591      0.460     -0.998      0.318      -1.361       0.443\n",
            "J.DavidStem                       0.6001      1.010      0.594      0.552      -1.380       2.581\n",
            "J.F.Lawton                       -0.0718      0.457     -0.157      0.875      -0.968       0.824\n",
            "J.K.Rowling                       0.1687      0.616      0.274      0.784      -1.040       1.377\n",
            "J.MichaelStraczynski              0.0339      0.431      0.079      0.937      -0.812       0.879\n",
            "J.R.R.Tolkien                     0.3416      0.413      0.827      0.408      -0.468       1.152\n",
            "J.R.Ventimilia                    0.0842      0.265      0.318      0.751      -0.436       0.604\n",
            "JackAmiel                         0.0053      0.224      0.024      0.981      -0.434       0.445\n",
            "JackEppsJr.                      -0.2549      0.143     -1.779      0.075      -0.536       0.026\n",
            "JackKirby                         0.9452      1.644      0.575      0.565      -2.277       4.168\n",
            "JacquesAudiard                   -1.0303      0.802     -1.285      0.199      -2.602       0.542\n",
            "JamesDeMonaco                    -0.8754      0.649     -1.348      0.178      -2.149       0.398\n",
            "JamesEllroy                      -0.0558      0.563     -0.099      0.921      -1.160       1.048\n",
            "JamesGunn                         0.4170      0.357      1.168      0.243      -0.283       1.117\n",
            "JamesSchamus                      0.4167      0.625      0.667      0.505      -0.808       1.642\n",
            "JamesV.Hart                       0.1586      0.300      0.528      0.597      -0.430       0.747\n",
            "JamesVanderbilt                   0.0461      0.380      0.121      0.903      -0.698       0.790\n",
            "JaneAusten                       -0.1936      0.511     -0.379      0.705      -1.196       0.809\n",
            "JaneGoldman                       0.2007      0.385      0.521      0.602      -0.554       0.956\n",
            "JaredStern                       -0.2801      0.522     -0.537      0.591      -1.303       0.743\n",
            "JasonHall                        -0.3163      0.394     -0.802      0.423      -1.090       0.457\n",
            "JasonSegel                       -0.7331      0.581     -1.262      0.207      -1.872       0.406\n",
            "JaumeBalaguerÃ³                   0.1111      0.398      0.279      0.780      -0.670       0.892\n",
            "JayCocks                          0.0649      0.368      0.176      0.860      -0.657       0.787\n",
            "JayScherick                      -0.2544      0.152     -1.671      0.095      -0.553       0.044\n",
            "JayWolpert                        0.7203      0.495      1.457      0.145      -0.249       1.690\n",
            "Jean-ClaudeVanDamme               0.2723      0.468      0.582      0.561      -0.646       1.190\n",
            "JebStuart                        -0.1760      0.308     -0.572      0.568      -0.780       0.428\n",
            "JeffNathanson                    -0.5415      0.353     -1.534      0.125      -1.233       0.150\n",
            "JeffSchaffer                     -1.3292      0.508     -2.614      0.009      -2.326      -0.332\n",
            "JeffSnow                         -2.1096      1.496     -1.410      0.159      -5.042       0.823\n",
            "JeffTremaine                     -0.1731      0.162     -1.071      0.284      -0.490       0.144\n",
            "JeffreyBoam                       0.5632      0.359      1.569      0.117      -0.141       1.267\n",
            "JeffreyCaine                      0.7902      0.417      1.896      0.058      -0.027       1.607\n",
            "JeffreyHatcher                   -0.2492      0.570     -0.437      0.662      -1.367       0.868\n",
            "JeffreyPrice                     -0.2676      0.181     -1.482      0.138      -0.622       0.086\n",
            "JeffreyReddick                    0.0314      0.405      0.078      0.938      -0.762       0.825\n",
            "JeremyBrock                       0.1034      0.346      0.299      0.765      -0.575       0.782\n",
            "JeremyLeven                      -0.1032      0.365     -0.283      0.777      -0.818       0.612\n",
            "JeremyPassmore                   -0.9908      0.409     -2.422      0.016      -1.793      -0.189\n",
            "JerryJuhl                         1.2513      0.315      3.969      0.000       0.633       1.869\n",
            "JerrySiegel                      -0.8260      0.230     -3.596      0.000      -1.276      -0.376\n",
            "JerushaHess                      -0.1337      0.460     -0.291      0.771      -1.035       0.768\n",
            "JessicaBendinger                 -0.4491      0.338     -1.327      0.184      -1.113       0.214\n",
            "JessieNelson                      0.1578      0.317      0.498      0.618      -0.463       0.778\n",
            "JezButterworth                   -0.4266      0.505     -0.846      0.398      -1.416       0.563\n",
            "JimAbrahams                       0.5460      0.435      1.254      0.210      -0.308       1.400\n",
            "JimCash                          -0.2549      0.143     -1.779      0.075      -0.536       0.026\n",
            "JimHenson                         0.8405      0.415      2.023      0.043       0.026       1.655\n",
            "JimKouf                           0.0579      0.273      0.212      0.832      -0.478       0.594\n",
            "JimReardon                       -0.0202      0.638     -0.032      0.975      -1.270       1.230\n",
            "JimStarlin                        0.3200      0.739      0.433      0.665      -1.129       1.769\n",
            "JimTaylor                        -0.1381      0.452     -0.306      0.760      -1.024       0.748\n",
            "JimThomas                        -0.0560      0.152     -0.369      0.712      -0.353       0.241\n",
            "JimThompson                       0.2160      0.390      0.553      0.580      -0.549       0.981\n",
            "JimWheat                         -0.9817      0.425     -2.309      0.021      -1.815      -0.148\n",
            "JoeCarnahan                      -0.0074      0.296     -0.025      0.980      -0.588       0.573\n",
            "JoeCornish                        0.1220      0.436      0.280      0.780      -0.733       0.977\n",
            "JoeEszterhas                     -1.0799      0.287     -3.760      0.000      -1.643      -0.517\n",
            "JoeGrant                          1.3318      3.267      0.408      0.684      -5.073       7.737\n",
            "JoeRanft                          0.6566      0.588      1.118      0.264      -0.495       1.809\n",
            "JoeRinaldi                       -2.2121      2.088     -1.059      0.290      -6.306       1.882\n",
            "JoeShuster                       -0.8260      0.230     -3.596      0.000      -1.276      -0.376\n",
            "JoeSimon                          0.5317      1.132      0.469      0.639      -1.689       2.752\n",
            "JoeStillman                      -0.4777      0.399     -1.198      0.231      -1.259       0.304\n",
            "JoelCohen                        -0.4493      0.181     -2.484      0.013      -0.804      -0.095\n",
            "JoelEdgerton                     -0.3577      0.507     -0.705      0.481      -1.352       0.637\n",
            "JohnAugust                       -0.1046      0.278     -0.377      0.706      -0.649       0.440\n",
            "JohnBrancato                      0.0535      0.187      0.285      0.775      -0.314       0.421\n",
            "JohnCleese                        0.4289      0.501      0.855      0.392      -0.554       1.412\n",
            "JohnCollee                       -0.3328      0.352     -0.946      0.344      -1.023       0.357\n",
            "JohnErickDowdle                   0.2234      0.197      1.135      0.257      -0.163       0.609\n",
            "JohnFrancisDaley                 -0.2745      0.205     -1.340      0.180      -0.676       0.127\n",
            "JohnFusco                         0.1907      0.280      0.682      0.495      -0.357       0.739\n",
            "JohnGatins                        0.0308      0.335      0.092      0.927      -0.627       0.688\n",
            "JohnGrisham                      -0.0142      0.295     -0.048      0.962      -0.592       0.563\n",
            "JohnHamburg                      -0.3745      0.388     -0.965      0.335      -1.135       0.386\n",
            "JohnHodge                        -0.5368      0.389     -1.378      0.168      -1.300       0.227\n",
            "JohnJ.McLaughlin                 -0.2523      0.541     -0.466      0.641      -1.313       0.808\n",
            "JohnJ.Strauss                    -0.0359      0.147     -0.244      0.807      -0.324       0.252\n",
            "JohnKamps                        -0.0902      0.380     -0.237      0.812      -0.835       0.655\n",
            "JohnL.Balderston                  1.3982      0.365      3.827      0.000       0.682       2.115\n",
            "JohnLeeHancock                   -0.0285      0.408     -0.070      0.944      -0.829       0.772\n",
            "JohnLogan                        -0.1939      0.218     -0.889      0.374      -0.621       0.234\n",
            "JohnMichaelHayes                  0.1117      0.524      0.213      0.831      -0.916       1.139\n",
            "JohnMilius                        0.1562      0.317      0.493      0.622      -0.465       0.778\n",
            "JohnMorris                        0.0124      0.153      0.081      0.935      -0.287       0.312\n",
            "JohnO'Brien                      -0.0496      0.387     -0.128      0.898      -0.808       0.709\n",
            "JohnPatrickShanley                0.0967      0.389      0.248      0.804      -0.667       0.860\n",
            "JohnPogue                        -1.0675      0.323     -3.301      0.001      -1.702      -0.433\n",
            "JohnRequa                        -0.1396      0.154     -0.904      0.366      -0.442       0.163\n",
            "JohnRidley                       -0.4323      0.407     -1.061      0.289      -1.231       0.366\n",
            "JohnRogers                       -0.0551      0.428     -0.129      0.898      -0.895       0.785\n",
            "JohnSayles                        0.4310      0.393      1.097      0.273      -0.339       1.201\n",
            "JohnThomas                       -0.0560      0.152     -0.369      0.712      -0.353       0.241\n",
            "JohnWaters                        0.3659      0.310      1.180      0.238      -0.242       0.974\n",
            "JohnleCarrÃ©                     -0.0367      0.462     -0.080      0.937      -0.942       0.868\n",
            "JohnnyKnoxville                  -0.1731      0.162     -1.071      0.284      -0.490       0.144\n",
            "JonHoeber                         0.0809      0.222      0.364      0.716      -0.354       0.516\n",
            "JonHurwitz                        0.0977      0.200      0.487      0.626      -0.295       0.491\n",
            "JonLucas                         -0.1046      0.145     -0.720      0.471      -0.390       0.180\n",
            "JonathanAibel                    -0.2680      0.154     -1.743      0.081      -0.570       0.033\n",
            "JonathanGoldstein                -0.2745      0.205     -1.340      0.180      -0.676       0.127\n",
            "JonathanHensleigh                 0.1718      0.393      0.437      0.662      -0.600       0.943\n",
            "JonathanLemkin                    0.0676      0.536      0.126      0.900      -0.983       1.118\n",
            "JonathanNolan                     0.2756      0.606      0.455      0.649      -0.912       1.463\n",
            "JonathanRoberts                   0.2174      0.648      0.335      0.737      -1.054       1.488\n",
            "JorgenKlubien                    -0.3570      0.968     -0.369      0.712      -2.254       1.540\n",
            "JoseRivera                        0.0588      0.380      0.155      0.877      -0.686       0.804\n",
            "JosephBarbera                    -0.3199      0.242     -1.322      0.186      -0.794       0.155\n",
            "JoshFriedman                     -0.8138      0.474     -1.718      0.086      -1.742       0.115\n",
            "JoshSinger                       -0.4806      0.411     -1.169      0.242      -1.287       0.325\n",
            "JoshStolberg                     -0.7710      0.648     -1.189      0.234      -2.042       0.500\n",
            "JoshuaSternin                     0.0842      0.265      0.318      0.751      -0.436       0.604\n",
            "JossWhedon                        0.3426      0.267      1.284      0.199      -0.181       0.866\n",
            "JulesVerne                       -0.2747      0.488     -0.563      0.573      -1.231       0.682\n",
            "JulianFellowes                    0.1568      0.434      0.362      0.718      -0.693       1.007\n",
            "JulietSnowden                    -0.3747      0.189     -1.987      0.047      -0.744      -0.005\n",
            "JustinHaythe                     -0.4985      0.415     -1.200      0.230      -1.313       0.316\n",
            "JustinTheroux                    -0.1182      0.440     -0.268      0.788      -0.982       0.745\n",
            "KarenMcCullah                    -0.0983      0.163     -0.603      0.547      -0.418       0.221\n",
            "KareyKirkpatrick                  0.1500      0.311      0.482      0.630      -0.460       0.760\n",
            "KateLanier                       -0.8794      0.335     -2.625      0.009      -1.536      -0.223\n",
            "KenAnderson                      -0.8749      0.903     -0.969      0.333      -2.645       0.895\n",
            "KenDaurio                        -0.0373      0.163     -0.229      0.819      -0.357       0.282\n",
            "KenKaufman                       -0.0705      0.347     -0.203      0.839      -0.750       0.609\n",
            "KenWheat                         -0.9817      0.425     -2.309      0.021      -1.815      -0.148\n",
            "KennethLonergan                  -1.0516      0.356     -2.950      0.003      -1.751      -0.353\n",
            "KevinBrodbin                      0.1450      0.409      0.355      0.723      -0.656       0.946\n",
            "KevinEastman                     -0.0710      0.188     -0.378      0.705      -0.439       0.297\n",
            "KevinGrevioux                    -0.1238      0.368     -0.337      0.736      -0.845       0.597\n",
            "KevinHageman                      0.5359      0.496      1.080      0.280      -0.437       1.509\n",
            "KevinHarkey                       1.9694      3.043      0.647      0.518      -3.996       7.935\n",
            "KevinHeffernan                    0.2367      0.129      1.836      0.066      -0.016       0.490\n",
            "KevinJames                       -0.6754      0.553     -1.221      0.222      -1.760       0.409\n",
            "KevinJarre                       -0.2083      0.358     -0.582      0.561      -0.910       0.494\n",
            "KevinWade                        -0.9630      0.349     -2.758      0.006      -1.648      -0.278\n",
            "KevinWilliamson                   0.0375      0.411      0.091      0.927      -0.768       0.843\n",
            "KimHenkel                        -0.4028      0.183     -2.198      0.028      -0.762      -0.043\n",
            "KirkDeMicco                      -0.5883      0.358     -1.643      0.100      -1.290       0.114\n",
            "KirstenSmith                     -0.0983      0.163     -0.603      0.547      -0.418       0.221\n",
            "KrzysztofKieslowski               0.2213      0.151      1.464      0.143      -0.075       0.518\n",
            "KrzysztofPiesiewicz               0.2213      0.151      1.464      0.143      -0.075       0.518\n",
            "KurtWimmer                       -0.5133      0.293     -1.754      0.079      -1.087       0.060\n",
            "KÃ´jiSuzuki                      -0.5755      0.363     -1.584      0.113      -1.288       0.137\n",
            "L.FrankBaum                       0.1592      0.428      0.372      0.710      -0.680       0.999\n",
            "LaetaKalogridis                  -1.0237      0.476     -2.152      0.031      -1.956      -0.091\n",
            "LarryClemmons                    -0.8749      0.903     -0.969      0.333      -2.645       0.895\n",
            "LarryCohen                       -0.2476      0.380     -0.652      0.514      -0.992       0.497\n",
            "LarryFerguson                    -0.2560      0.317     -0.807      0.420      -0.878       0.366\n",
            "LarryGross                        0.2472      0.414      0.597      0.551      -0.565       1.059\n",
            "LarryKaraszewski                 -0.0454      0.126     -0.361      0.718      -0.292       0.201\n",
            "LarryLieber                       1.8688      0.745      2.507      0.012       0.407       3.330\n",
            "LawrenceKonner                   -0.2594      0.143     -1.810      0.070      -0.540       0.022\n",
            "LeeHall                          -0.1328      0.409     -0.324      0.746      -0.936       0.670\n",
            "LeighBrackett                     0.5605      0.345      1.625      0.104      -0.116       1.237\n",
            "LeighWhannell                     0.3687      0.348      1.058      0.290      -0.314       1.052\n",
            "LemDobbs                         -0.7941      0.413     -1.923      0.055      -1.604       0.016\n",
            "LenBlum                          -0.1595      0.447     -0.357      0.721      -1.035       0.716\n",
            "LenWiseman                       -0.1238      0.368     -0.337      0.736      -0.845       0.597\n",
            "LeoBenvenuti                     -0.1797      0.165     -1.091      0.275      -0.503       0.143\n",
            "LeslieBohem                      -0.2484      0.313     -0.794      0.427      -0.861       0.365\n",
            "LeslieDixon                       0.0823      0.261      0.315      0.753      -0.430       0.595\n",
            "LeslieNewman                      0.2202      0.673      0.327      0.743      -1.099       1.539\n",
            "LewisColick                       0.1473      0.403      0.365      0.715      -0.644       0.938\n",
            "LindaWoolverton                  -0.1715      0.425     -0.404      0.687      -1.005       0.662\n",
            "LoisDuncan                       -1.2323      0.503     -2.449      0.014      -2.219      -0.246\n",
            "LorenzoSempleJr.                  0.2317      0.311      0.746      0.456      -0.377       0.841\n",
            "LowellCunningham                 -0.1308      0.542     -0.241      0.809      -1.194       0.932\n",
            "LowellGanz                        0.0051      0.124      0.042      0.967      -0.237       0.247\n",
            "MarcHyman                         0.1771      0.404      0.438      0.661      -0.616       0.970\n",
            "MarcLawrence                     -0.8694      0.272     -3.202      0.001      -1.402      -0.337\n",
            "MarcSilverstein                  -0.3173      0.199     -1.592      0.111      -0.708       0.073\n",
            "MarcusDunstan                    -0.0631      0.141     -0.447      0.655      -0.340       0.214\n",
            "MarianneWibberley                -0.0123      0.156     -0.079      0.937      -0.318       0.294\n",
            "MarioPuzo                        -0.0079      0.406     -0.019      0.985      -0.804       0.788\n",
            "MarkBoal                         -0.2297      0.525     -0.437      0.662      -1.259       0.800\n",
            "MarkBomback                      -0.4400      0.335     -1.315      0.189      -1.096       0.216\n",
            "MarkBurton                       -0.0842      0.348     -0.242      0.809      -0.766       0.598\n",
            "MarkFrost                         0.7032      0.414      1.700      0.089      -0.108       1.514\n",
            "MarkKennedy                       0.0092      0.699      0.013      0.989      -1.362       1.380\n",
            "MarkMillar                        0.1635      0.565      0.290      0.772      -0.943       1.270\n",
            "MarkMonroe                        0.6711      0.483      1.388      0.165      -0.277       1.619\n",
            "MarkProtosevich                  -0.5230      0.400     -1.306      0.192      -1.308       0.262\n",
            "MarkRosenthal                    -0.2594      0.143     -1.810      0.070      -0.540       0.022\n",
            "MarkStevenJohnson                -0.5174      0.312     -1.659      0.097      -1.129       0.094\n",
            "MarkVictor                       -0.0267      0.171     -0.156      0.876      -0.363       0.309\n",
            "MarlonWayans                     -0.9536      0.649     -1.470      0.142      -2.225       0.318\n",
            "MarvWolfman                       0.4309      0.558      0.772      0.440      -0.664       1.526\n",
            "MaryShelley                      -0.1227      0.399     -0.308      0.758      -0.905       0.659\n",
            "MattGreenberg                     0.1774      0.407      0.436      0.663      -0.621       0.976\n",
            "MattHolloway                     -0.1135      0.236     -0.481      0.630      -0.576       0.349\n",
            "MattLopez                        -0.3416      0.466     -0.733      0.463      -1.255       0.572\n",
            "MattManfredi                     -0.3083      0.189     -1.632      0.103      -0.679       0.062\n",
            "MattReeves                       -0.0130      0.432     -0.030      0.976      -0.860       0.834\n",
            "MatthewMichaelCarnahan           -0.0204      0.486     -0.042      0.966      -0.973       0.932\n",
            "MatthewRobbins                   -0.0142      0.333     -0.043      0.966      -0.667       0.639\n",
            "MatthewStone                     -0.0807      0.185     -0.437      0.662      -0.443       0.281\n",
            "MaxLandis                        -0.0686      0.501     -0.137      0.891      -1.051       0.914\n",
            "MayaForbes                        0.9335      0.647      1.443      0.149      -0.335       2.202\n",
            "MelissaMathison                  -0.1022      0.489     -0.209      0.835      -1.062       0.857\n",
            "MelissaRosenberg                 -0.6803      0.652     -1.044      0.297      -1.958       0.597\n",
            "MennoMeyjes                      -0.0254      0.410     -0.062      0.951      -0.829       0.779\n",
            "MichaelArndt                      0.1029      0.290      0.355      0.723      -0.465       0.671\n",
            "MichaelBacall                    -0.0824      0.393     -0.210      0.834      -0.852       0.687\n",
            "MichaelBegler                     0.0053      0.224      0.024      0.981      -0.434       0.445\n",
            "MichaelBrandt                    -0.1527      0.219     -0.697      0.486      -0.582       0.277\n",
            "MichaelCimino                     0.1938      0.342      0.567      0.571      -0.476       0.864\n",
            "MichaelCrichton                  -0.0377      0.254     -0.149      0.882      -0.535       0.459\n",
            "MichaelCristofer                  0.0866      0.363      0.238      0.812      -0.626       0.799\n",
            "MichaelDougherty                  0.2079      0.461      0.451      0.652      -0.696       1.112\n",
            "MichaelFerris                     0.0535      0.187      0.285      0.775      -0.314       0.421\n",
            "MichaelFrance                    -0.4504      0.466     -0.966      0.334      -1.365       0.464\n",
            "MichaelG.Wilson                  -0.2257      0.222     -1.017      0.309      -0.661       0.209\n",
            "MichaelGrais                     -0.0267      0.171     -0.156      0.876      -0.363       0.309\n",
            "MichaelH.Weber                    0.0182      0.166      0.110      0.913      -0.307       0.343\n",
            "MichaelHaneke                    -0.1773      0.469     -0.378      0.705      -1.096       0.741\n",
            "MichaelMcCullers                  0.4714      0.380      1.239      0.215      -0.274       1.217\n",
            "MichaelMcDowell                   1.3109      0.803      1.632      0.103      -0.264       2.886\n",
            "MichaelMiner                     -0.7368      0.787     -0.936      0.350      -2.281       0.807\n",
            "MichaelPalin                     -0.0317      0.586     -0.054      0.957      -1.180       1.117\n",
            "MichaelPetroni                   -0.4212      0.347     -1.214      0.225      -1.101       0.259\n",
            "MichaelSchiffer                   0.5796      0.368      1.573      0.116      -0.143       1.302\n",
            "MichaelTolkin                    -0.0906      0.396     -0.229      0.819      -0.867       0.686\n",
            "MichaelWilson                    -1.0010      0.687     -1.458      0.145      -2.348       0.345\n",
            "MickGarris                        0.5110      0.428      1.195      0.232      -0.327       1.349\n",
            "MikeJudge                         0.4905      0.392      1.253      0.210      -0.277       1.258\n",
            "MikeMignola                      -0.0168      0.443     -0.038      0.970      -0.886       0.852\n",
            "MikeMyers                        -0.8616      0.378     -2.281      0.023      -1.602      -0.121\n",
            "MikeRich                          0.1683      0.332      0.507      0.612      -0.483       0.820\n",
            "MikeWerb                          0.3420      0.366      0.934      0.350      -0.376       1.060\n",
            "MilesMillar                      -0.2004      0.184     -1.092      0.275      -0.560       0.159\n",
            "MitchGlazer                       0.2365      0.472      0.501      0.616      -0.689       1.162\n",
            "MitchellKapner                   -0.7534      0.461     -1.636      0.102      -1.657       0.150\n",
            "NathanParker                     -0.0753      0.460     -0.164      0.870      -0.978       0.828\n",
            "NealIsrael                       -1.1173      0.488     -2.289      0.022      -2.074      -0.160\n",
            "NealPurvis                       -0.0550      0.168     -0.328      0.743      -0.384       0.274\n",
            "NeilGaiman                       -0.2436      0.523     -0.466      0.641      -1.268       0.781\n",
            "NicholasKazan                     0.0112      0.335      0.034      0.973      -0.645       0.668\n",
            "NicholasMeyer                     0.4077      0.410      0.995      0.320      -0.395       1.211\n",
            "NicholasSparks                   -0.1701      0.326     -0.521      0.602      -0.810       0.469\n",
            "NickCastle                       -0.1814      0.380     -0.477      0.634      -0.927       0.564\n",
            "NickHornby                        0.1715      0.318      0.539      0.590      -0.452       0.795\n",
            "NickSwardson                     -0.2200      0.824     -0.267      0.789      -1.835       1.395\n",
            "NoniWhite                        -0.3870      0.249     -1.557      0.120      -0.874       0.100\n",
            "OrenMoverman                      0.0715      0.360      0.198      0.843      -0.635       0.778\n",
            "OrenPeli                         -0.5991      0.451     -1.327      0.184      -1.484       0.286\n",
            "OrenUziel                        -0.0457      0.340     -0.135      0.893      -0.712       0.621\n",
            "PacoPlaza                        -0.4612      0.447     -1.032      0.302      -1.337       0.415\n",
            "PatProft                          0.1628      0.405      0.402      0.688      -0.632       0.958\n",
            "PatriciaHighsmith                -0.0606      0.425     -0.142      0.887      -0.895       0.773\n",
            "PatrickMelton                    -0.0631      0.141     -0.447      0.655      -0.340       0.214\n",
            "PaulAttanasio                    -0.0759      0.386     -0.197      0.844      -0.832       0.680\n",
            "PaulDehn                          0.0190      0.535      0.036      0.972      -1.031       1.069\n",
            "PaulDini                         -0.2473      0.486     -0.509      0.611      -1.199       0.705\n",
            "PaulHaggis                        0.0859      0.282      0.305      0.761      -0.467       0.639\n",
            "PaulMayedaBerges                  0.0640      0.222      0.289      0.773      -0.371       0.498\n",
            "PaulRudnick                      -0.5857      0.463     -1.266      0.206      -1.493       0.321\n",
            "PaulSoter                         0.2367      0.129      1.836      0.066      -0.016       0.490\n",
            "PaulWernick                       1.9735      1.638      1.205      0.228      -1.239       5.186\n",
            "PeteDocter                        0.4266      0.451      0.945      0.345      -0.459       1.312\n",
            "PeteGoldfinger                   -0.5243      0.778     -0.674      0.500      -2.049       1.000\n",
            "PeterBaynham                     -0.0814      0.470     -0.173      0.862      -1.002       0.839\n",
            "PeterBenchley                     0.6384      0.840      0.760      0.447      -1.008       2.285\n",
            "PeterDexter                      -0.1838      0.406     -0.452      0.651      -0.980       0.613\n",
            "PeterHedges                       0.1371      0.381      0.359      0.719      -0.611       0.885\n",
            "PeterLaird                       -0.0710      0.188     -0.378      0.705      -0.439       0.297\n",
            "PeterMorgan                      -0.2949      0.318     -0.928      0.353      -0.918       0.328\n",
            "PeterS.Seaman                    -0.2676      0.181     -1.482      0.138      -0.622       0.086\n",
            "PeterStraughan                   -0.7498      0.336     -2.234      0.026      -1.408      -0.092\n",
            "PeterTolan                        0.3944      0.382      1.032      0.302      -0.355       1.144\n",
            "PhilBeauman                       0.4269      0.307      1.390      0.165      -0.175       1.029\n",
            "PhilHay                          -0.3083      0.189     -1.632      0.103      -0.679       0.062\n",
            "PhilJohnston                      0.0945      0.557      0.169      0.865      -0.998       1.187\n",
            "PhilLord                         -0.2984      0.652     -0.458      0.647      -1.576       0.980\n",
            "PhilipK.Dick                     -0.1027      0.332     -0.310      0.757      -0.753       0.547\n",
            "PhilippaBoyens                   -0.5445      0.538     -1.012      0.312      -1.600       0.511\n",
            "PierreBoulle                     -0.0723      0.525     -0.138      0.890      -1.101       0.957\n",
            "PjTorokvei                        0.1617      0.333      0.485      0.628      -0.492       0.815\n",
            "RalphWright                       1.3923      1.713      0.813      0.416      -1.967       4.752\n",
            "RandallWallace                   -0.4529      0.487     -0.930      0.352      -1.407       0.502\n",
            "RaynoldGideon                    -0.0756      0.167     -0.454      0.650      -0.402       0.251\n",
            "RhettReese                       -1.2151      1.594     -0.762      0.446      -4.340       1.910\n",
            "RichWilkes                       -0.7570      0.369     -2.050      0.040      -1.481      -0.033\n",
            "RichardCurtis                    -0.1569      0.220     -0.712      0.476      -0.589       0.275\n",
            "RichardD'Ovidio                  -0.3332      0.386     -0.862      0.389      -1.091       0.424\n",
            "RichardEpcar                      0.0828      0.312      0.265      0.791      -0.530       0.695\n",
            "RichardKelly                     -0.9324      0.305     -3.059      0.002      -1.530      -0.335\n",
            "RichardLaGravenese                0.3168      0.286      1.109      0.267      -0.243       0.877\n",
            "RichardMaibaum                    0.1949      0.360      0.542      0.588      -0.510       0.900\n",
            "RichardMatheson                  -0.0690      0.360     -0.192      0.848      -0.774       0.636\n",
            "RichardPrice                     -0.2532      0.276     -0.918      0.359      -0.794       0.288\n",
            "RichardRothstein                 -0.3487      0.225     -1.550      0.121      -0.790       0.092\n",
            "RichardWenk                       0.0985      0.354      0.279      0.781      -0.595       0.792\n",
            "RickBerman                       -0.1771      0.830     -0.213      0.831      -1.805       1.451\n",
            "RickJaffa                         0.4891      0.794      0.616      0.538      -1.069       2.047\n",
            "RitaM.Fink                        0.2217      0.156      1.425      0.154      -0.083       0.527\n",
            "RoaldDahl                         0.3531      0.281      1.255      0.210      -0.199       0.905\n",
            "RobSchneider                     -1.1072      0.510     -2.169      0.030      -2.108      -0.106\n",
            "RobertBenGarant                  -0.5919      0.648     -0.914      0.361      -1.862       0.678\n",
            "RobertBloch                       0.2635      0.401      0.657      0.511      -0.523       1.050\n",
            "RobertBolt                        0.0561      0.335      0.167      0.867      -0.601       0.713\n",
            "RobertE.Howard                   -0.4789      0.354     -1.352      0.176      -1.173       0.216\n",
            "RobertGetchell                    0.1941      0.420      0.462      0.644      -0.629       1.018\n",
            "RobertGordon                      0.3093      0.408      0.758      0.448      -0.490       1.109\n",
            "RobertKlane                      -0.0597      0.390     -0.153      0.878      -0.825       0.705\n",
            "RobertLudlum                      0.7031      0.570      1.233      0.218      -0.415       1.821\n",
            "RobertMarkKamen                  -0.2834      0.187     -1.517      0.129      -0.650       0.083\n",
            "RobertNelsonJacobs               -0.2111      0.446     -0.473      0.636      -1.086       0.664\n",
            "RobertRamsey                     -0.0807      0.185     -0.437      0.662      -0.443       0.281\n",
            "RobertRodat                      -0.0749      0.429     -0.175      0.861      -0.917       0.767\n",
            "RobertTowne                      -0.3693      0.330     -1.119      0.263      -1.017       0.278\n",
            "RobertWade                       -0.0550      0.168     -0.328      0.743      -0.384       0.274\n",
            "RobertoOrci                       0.3298      0.846      0.390      0.697      -1.329       1.988\n",
            "RobinSwicord                      0.3733      0.375      0.995      0.320      -0.362       1.109\n",
            "RoderickThorp                     0.3036      0.459      0.661      0.509      -0.597       1.205\n",
            "RogerAvary                       -0.4624      0.433     -1.068      0.286      -1.311       0.386\n",
            "RonJ.Friedman                    -0.3751      0.248     -1.512      0.131      -0.862       0.111\n",
            "RonaldBass                       -0.0067      0.220     -0.030      0.976      -0.439       0.425\n",
            "RonaldHarwood                     0.1119      0.339      0.330      0.741      -0.552       0.776\n",
            "RonaldShusett                    -0.3336      0.493     -0.676      0.499      -1.301       0.634\n",
            "RowanJoffe                       -0.3344      0.378     -0.885      0.376      -1.075       0.406\n",
            "RudyardKipling                    0.1376      0.404      0.340      0.734      -0.655       0.930\n",
            "RyanFleck                        -0.0452      0.229     -0.197      0.844      -0.495       0.405\n",
            "S.S.Wilson                        0.0051      0.177      0.029      0.977      -0.341       0.352\n",
            "SachaBaronCohen                   0.7364      0.567      1.299      0.194      -0.375       1.848\n",
            "SamHarper                         0.0033      0.371      0.009      0.993      -0.725       0.731\n",
            "ScotArmstrong                    -0.4002      0.349     -1.148      0.251      -1.084       0.284\n",
            "ScottAlexander                   -0.0454      0.126     -0.361      0.718      -0.292       0.201\n",
            "ScottDerrickson                  -0.6613      0.329     -2.010      0.045      -1.306      -0.016\n",
            "ScottFrank                        0.4622      0.272      1.702      0.089      -0.070       0.995\n",
            "ScottKosar                        0.2473      0.407      0.607      0.544      -0.552       1.046\n",
            "ScottMoore                       -0.1046      0.145     -0.720      0.471      -0.390       0.180\n",
            "ScottNeustadter                   0.0182      0.166      0.110      0.913      -0.307       0.343\n",
            "ScottRosenberg                   -0.0681      0.314     -0.217      0.828      -0.684       0.548\n",
            "ScottZ.Burns                      0.3138      0.554      0.567      0.571      -0.772       1.399\n",
            "SeanAnders                        0.0124      0.153      0.081      0.935      -0.287       0.312\n",
            "SebastianGutierrez               -0.0141      0.504     -0.028      0.978      -1.002       0.974\n",
            "SethRogen                        -0.3024      0.568     -0.533      0.594      -1.415       0.811\n",
            "ShaneBlack                       -0.5689      0.392     -1.452      0.146      -1.337       0.199\n",
            "ShaneSalerno                     -0.6036      0.407     -1.482      0.139      -1.402       0.195\n",
            "ShawnWayans                      -1.2371      0.805     -1.537      0.124      -2.815       0.341\n",
            "SheldonLettich                   -0.6220      0.420     -1.481      0.139      -1.446       0.202\n",
            "SheldonTurner                    -0.0552      0.512     -0.108      0.914      -1.060       0.950\n",
            "SimonBarrett                      0.0122      0.265      0.046      0.963      -0.508       0.532\n",
            "SimonBeaufoy                     -0.2509      0.374     -0.670      0.503      -0.985       0.483\n",
            "SimonKinberg                     -0.2488      0.318     -0.782      0.434      -0.872       0.375\n",
            "SimonPegg                        -0.1430      0.418     -0.342      0.732      -0.962       0.677\n",
            "SkipWoods                        -0.3929      0.279     -1.408      0.159      -0.940       0.154\n",
            "SpikeJonze                       -0.1731      0.162     -1.071      0.284      -0.490       0.144\n",
            "StanLee                          -2.0445      1.562     -1.309      0.191      -5.106       1.017\n",
            "StephenChbosky                    0.4156      0.404      1.028      0.304      -0.377       1.208\n",
            "StephenChow                       0.3368      0.398      0.847      0.397      -0.443       1.117\n",
            "StephenGaghan                  2.248e-16   1.45e-16      1.552      0.121   -5.92e-17    5.09e-16\n",
            "StephenJ.Anderson                 0.1069      0.294      0.364      0.716      -0.469       0.683\n",
            "StephenJ.Rivele                   0.0267      0.269      0.099      0.921      -0.500       0.554\n",
            "StephenKing                      -0.0303      0.152     -0.199      0.842      -0.329       0.268\n",
            "StephenMcFeely                    0.0077      0.211      0.037      0.971      -0.406       0.421\n",
            "StephenieMeyer                   -1.2966      0.623     -2.081      0.038      -2.518      -0.075\n",
            "SteveBencich                     -0.3751      0.248     -1.512      0.131      -0.862       0.111\n",
            "SteveBloom                       -0.3572      0.827     -0.432      0.666      -1.979       1.265\n",
            "SteveConrad                       0.1645      0.363      0.454      0.650      -0.547       0.876\n",
            "SteveDitko                        1.3479      1.465      0.920      0.358      -1.525       4.221\n",
            "SteveKloves                       0.4020      0.522      0.770      0.441      -0.621       1.425\n",
            "SteveKoren                       -0.6776      0.339     -1.999      0.046      -1.342      -0.013\n",
            "SteveLemme                        0.2367      0.129      1.836      0.066      -0.016       0.490\n",
            "SteveMartin                       0.0426      0.256      0.166      0.868      -0.460       0.545\n",
            "SteveOedekerk                    -0.1416      0.246     -0.575      0.565      -0.625       0.341\n",
            "SteveRudnick                     -0.1797      0.165     -1.091      0.275      -0.503       0.143\n",
            "StevenE.deSouza                  -0.1570      0.248     -0.633      0.526      -0.643       0.329\n",
            "StevenKnight                     -0.0494      0.320     -0.154      0.877      -0.678       0.579\n",
            "StevenZaillian                   -0.1154      0.248     -0.466      0.642      -0.602       0.371\n",
            "StiegLarsson                     -0.3003      0.394     -0.761      0.446      -1.073       0.473\n",
            "StilesWhite                      -0.3747      0.189     -1.987      0.047      -0.744      -0.005\n",
            "StuartBeattie                    -0.3237      0.289     -1.120      0.263      -0.891       0.243\n",
            "StuartBlumberg                   -0.2773      0.375     -0.739      0.460      -1.013       0.459\n",
            "SusannahGrant                    -0.0654      0.301     -0.217      0.828      -0.655       0.525\n",
            "TabMurphy                        -0.1565      0.559     -0.280      0.779      -1.252       0.939\n",
            "TakashiShimizu                   -0.6770      0.337     -2.008      0.045      -1.338      -0.016\n",
            "TedBerman                        -2.1951      1.896     -1.158      0.247      -5.913       1.522\n",
            "TedElliott                        0.1725      0.736      0.234      0.815      -1.270       1.615\n",
            "TedGriffin                        0.1720      0.298      0.578      0.564      -0.412       0.756\n",
            "TedSears                         -2.2999      2.626     -0.876      0.381      -7.449       2.849\n",
            "TedTally                         -0.5802      0.461     -1.258      0.208      -1.484       0.324\n",
            "TerryGeorge                      -0.0411      0.426     -0.096      0.923      -0.876       0.794\n",
            "TerryHayes                        0.2051      0.332      0.618      0.537      -0.446       0.856\n",
            "TerryJones                        0.0668      0.633      0.105      0.916      -1.175       1.309\n",
            "TerryRossio                      -0.1406      0.684     -0.206      0.837      -1.481       1.200\n",
            "TerrySouthern                     0.2915      0.340      0.857      0.391      -0.375       0.958\n",
            "TerryTurner                       0.1952      0.200      0.976      0.329      -0.197       0.588\n",
            "ThomEnriquez                      0.3131      1.267      0.247      0.805      -2.172       2.798\n",
            "ThomasBidegain                    0.7469      0.665      1.124      0.261      -0.556       2.050\n",
            "ThomasHarris                     -0.9649      0.502     -1.922      0.055      -1.949       0.020\n",
            "ThomasLennon                      0.0454      0.698      0.065      0.948      -1.323       1.414\n",
            "ThomasMeehan                     -0.5534      0.467     -1.184      0.237      -1.470       0.363\n",
            "TimHerlihy                        0.4822      0.312      1.546      0.122      -0.129       1.094\n",
            "TimMetcalfe                      -0.2819      0.345     -0.817      0.414      -0.958       0.395\n",
            "TimothyDowling                   -0.0615      0.446     -0.138      0.890      -0.936       0.813\n",
            "TimothyHarris                    -0.0187      0.654     -0.029      0.977      -1.301       1.264\n",
            "TobeHooper                       -0.4028      0.183     -2.198      0.028      -0.762      -0.043\n",
            "ToddFarmer                       -0.7255      0.331     -2.192      0.028      -1.375      -0.077\n",
            "TomClancy                        -0.4861      0.563     -0.863      0.388      -1.591       0.619\n",
            "TomHolland                        0.4202      0.320      1.315      0.189      -0.206       1.047\n",
            "TomMankiewicz                     0.0191      0.550      0.035      0.972      -1.060       1.098\n",
            "TomMcCarthy                       0.3997      0.325      1.230      0.219      -0.237       1.037\n",
            "TomSchulman                      -0.2692      0.448     -0.601      0.548      -1.147       0.608\n",
            "TomStoppard                       0.0894      0.350      0.255      0.799      -0.598       0.776\n",
            "TommySwerdlow                     0.2429      0.361      0.673      0.501      -0.465       0.951\n",
            "TonyGilroy                        0.0630      0.277      0.227      0.820      -0.481       0.607\n",
            "TracyKeenanWynn                  -0.1921      0.530     -0.362      0.717      -1.232       0.848\n",
            "TroyKennedy-Martin                0.3492      0.418      0.836      0.403      -0.470       1.168\n",
            "TylerPerry                       -0.9908      0.374     -2.646      0.008      -1.725      -0.257\n",
            "VanceGerry                        0.7201      1.120      0.643      0.520      -1.475       2.915\n",
            "VernonStallings                  -1.7079      3.669     -0.466      0.642      -8.901       5.485\n",
            "VictorLevin                       0.5695      0.458      1.242      0.214      -0.329       1.468\n",
            "VictorMiller                     -0.4404      0.256     -1.723      0.085      -0.942       0.061\n",
            "W.PeterIliff                      0.1503      0.388      0.388      0.698      -0.610       0.910\n",
            "WallaceWolodarsky                -0.6222      0.766     -0.812      0.417      -2.124       0.880\n",
            "WalonGreen                        0.8322      0.512      1.626      0.104      -0.171       1.836\n",
            "WesleyStrick                     -0.2878      0.301     -0.956      0.339      -0.878       0.302\n",
            "WillFerrell                       0.7879      0.733      1.075      0.283      -0.650       2.225\n",
            "WillFetters                      -0.0668      0.387     -0.173      0.863      -0.825       0.691\n",
            "WillFinn                          1.7007      2.424      0.702      0.483      -3.052       6.454\n",
            "WillMcRobb                       -0.3188      0.176     -1.809      0.070      -0.664       0.027\n",
            "WilliamBroylesJr.                -0.1424      0.309     -0.460      0.645      -0.749       0.464\n",
            "WilliamCottrell                   0.2481      2.153      0.115      0.908      -3.973       4.469\n",
            "WilliamDavies                    -0.2355      0.315     -0.749      0.454      -0.852       0.381\n",
            "WilliamGoldman                   -0.0829      0.211     -0.393      0.694      -0.496       0.330\n",
            "WilliamHanna                     -0.3199      0.242     -1.322      0.186      -0.794       0.155\n",
            "WilliamMonahan                   -0.6033      0.348     -1.735      0.083      -1.285       0.078\n",
            "WilliamNicholson                 -0.3598      0.296     -1.217      0.224      -0.940       0.220\n",
            "WilliamPeterBlatty                0.1140      0.411      0.277      0.782      -0.692       0.920\n",
            "WilliamShakespeare               -0.0379      0.225     -0.168      0.866      -0.479       0.403\n",
            "WilliamSteig                      0.1728      0.603      0.286      0.775      -1.010       1.356\n",
            "WilliamWisher                    -0.0772      0.358     -0.216      0.829      -0.779       0.625\n",
            "WinstonHibler                     3.0692      1.896      1.619      0.106      -0.648       6.786\n",
            "ZakPenn                           0.2373      0.241      0.983      0.326      -0.236       0.711\n",
            "USA                              -0.4740      0.044    -10.798      0.000      -0.560      -0.388\n",
            "UK                                0.0137      0.038      0.366      0.715      -0.060       0.087\n",
            "France                           -0.0542      0.047     -1.157      0.247      -0.146       0.038\n",
            "Germany                          -0.2117      0.046     -4.639      0.000      -0.301      -0.122\n",
            "Canada                           -0.1203      0.047     -2.546      0.011      -0.213      -0.028\n",
            "Italy                             0.0028      0.094      0.030      0.976      -0.181       0.187\n",
            "Japan                             0.0033      0.084      0.039      0.969      -0.161       0.167\n",
            "Australia                        -0.1931      0.083     -2.320      0.020      -0.356      -0.030\n",
            "Spain                            -0.1654      0.098     -1.690      0.091      -0.357       0.027\n",
            "China                            -0.1046      0.120     -0.872      0.383      -0.340       0.131\n",
            "runtime                           1.5385      0.173      8.879      0.000       1.199       1.878\n",
            "votes                             2.0680      0.072     28.761      0.000       1.927       2.209\n",
            "==============================================================================\n",
            "Omnibus:                      803.630   Durbin-Watson:                   1.968\n",
            "Prob(Omnibus):                  0.000   Jarque-Bera (JB):             4278.035\n",
            "Skew:                          -0.838   Prob(JB):                         0.00\n",
            "Kurtosis:                       7.729   Cond. No.                     2.69e+17\n",
            "==============================================================================\n",
            "\n",
            "Warnings:\n",
            "[1] Standard Errors assume that the covariance matrix of the errors is correctly specified.\n",
            "[2] The smallest eigenvalue is 2.29e-31. This might indicate that there are\n",
            "strong multicollinearity problems or that the design matrix is singular.\n"
          ],
          "name": "stdout"
        },
        {
          "output_type": "execute_result",
          "data": {
            "text/plain": [
              "0.6396282129151393"
            ]
          },
          "metadata": {
            "tags": []
          },
          "execution_count": 23
        }
      ]
    },
    {
      "cell_type": "markdown",
      "metadata": {
        "id": "qB3ua59wYzlp",
        "colab_type": "text"
      },
      "source": [
        "### SVM"
      ]
    },
    {
      "cell_type": "code",
      "metadata": {
        "id": "_R32Pca1Yzlp",
        "colab_type": "code",
        "outputId": "3dcec40b-a878-4d6b-dd10-35ebc4b093de",
        "colab": {
          "base_uri": "https://localhost:8080/",
          "height": 34
        }
      },
      "source": [
        "#SVM\n",
        "from sklearn.svm import SVR\n",
        "svr_rbf = SVR(kernel='rbf', gamma=0.1)\n",
        "svr_lin = SVR(kernel='linear', gamma='auto')\n",
        "svr_poly = SVR(kernel='poly', gamma='auto', degree=3)\n",
        "\n",
        "#SVM with RBF\n",
        "svr_rbf.fit(X_train, y_train)\n",
        "y_pred_svm_rbf = svr_rbf.predict(X_test)\n",
        "\n",
        "y_pred_svm_rbf\n",
        "y_pred_svm_rbf.min(), y_pred_svm_rbf.max()\n",
        "mean_squared_error(y_pred_svm_rbf, y_test)"
      ],
      "execution_count": 0,
      "outputs": [
        {
          "output_type": "execute_result",
          "data": {
            "text/plain": [
              "0.45085293035767005"
            ]
          },
          "metadata": {
            "tags": []
          },
          "execution_count": 24
        }
      ]
    },
    {
      "cell_type": "code",
      "metadata": {
        "id": "OQnSn1ZdYzlu",
        "colab_type": "code",
        "outputId": "35706193-8d8b-42b8-a54d-adf3985b0fa2",
        "colab": {
          "base_uri": "https://localhost:8080/",
          "height": 34
        }
      },
      "source": [
        "#SVM linear\n",
        "svr_lin.fit(X_train, y_train)\n",
        "y_pred_svm_lin = svr_lin.predict(X_test)\n",
        "mean_squared_error(y_pred_svm_lin, y_test)"
      ],
      "execution_count": 0,
      "outputs": [
        {
          "output_type": "execute_result",
          "data": {
            "text/plain": [
              "0.5168707180699302"
            ]
          },
          "metadata": {
            "tags": []
          },
          "execution_count": 25
        }
      ]
    },
    {
      "cell_type": "code",
      "metadata": {
        "id": "yISOxI5OYzlx",
        "colab_type": "code",
        "outputId": "41afc906-2b28-4fa7-f526-b929623948f6",
        "colab": {
          "base_uri": "https://localhost:8080/",
          "height": 34
        }
      },
      "source": [
        "#SVM_poly\n",
        "svr_poly.fit(X_train, y_train)\n",
        "y_pred_svm_poly = svr_poly.predict(X_test)\n",
        "mean_squared_error(y_pred_svm_poly, y_test)"
      ],
      "execution_count": 0,
      "outputs": [
        {
          "output_type": "execute_result",
          "data": {
            "text/plain": [
              "0.9734303972143566"
            ]
          },
          "metadata": {
            "tags": []
          },
          "execution_count": 27
        }
      ]
    },
    {
      "cell_type": "markdown",
      "metadata": {
        "id": "IJrwBsKWYzlz",
        "colab_type": "text"
      },
      "source": [
        "#### GRADIENT BOOSTING REGRESSOR "
      ]
    },
    {
      "cell_type": "code",
      "metadata": {
        "id": "auiLTTewYzlz",
        "colab_type": "code",
        "outputId": "c00ae5c2-c1dd-4e2e-cf99-42f1897c4ada",
        "colab": {
          "base_uri": "https://localhost:8080/",
          "height": 67
        }
      },
      "source": [
        "#ensemble models\n",
        "#Gradient Boosting with Hyper Parameter Tuning\n",
        "\n",
        "n_trees=100\n",
        "gradientboost = ensemble.GradientBoostingRegressor(loss='ls',learning_rate=0.04,n_estimators=n_trees,max_depth=4)\n",
        "gradientboost.fit(X_train,y_train)\n",
        "\n",
        "y_pred_gb=gradientboost.predict(X_test)\n",
        "error=gradientboost.loss_(y_test,y_pred_gb) ##Loss function== Mean square error\n",
        "print(\"MSE:%.3f\" % error)\n",
        "print(\"GBR Train Accuracy:\",gradientboost.score(X_train, y_train))\n",
        "print(\"GBR Test Accuracy:\",gradientboost.score(X_test, y_test))"
      ],
      "execution_count": 0,
      "outputs": [
        {
          "output_type": "stream",
          "text": [
            "MSE:0.497\n",
            "GBR Train Accuracy: 0.5414352881569651\n",
            "GBR Test Accuracy: 0.4879777844234525\n"
          ],
          "name": "stdout"
        }
      ]
    },
    {
      "cell_type": "markdown",
      "metadata": {
        "id": "cxR8hXgdYzl2",
        "colab_type": "text"
      },
      "source": [
        "### Random Forest Regressor"
      ]
    },
    {
      "cell_type": "code",
      "metadata": {
        "id": "L-YpRjqdYzl2",
        "colab_type": "code",
        "outputId": "27aab8ae-a062-4bcc-8950-7f4de9bfbbe1",
        "colab": {
          "base_uri": "https://localhost:8080/",
          "height": 118
        }
      },
      "source": [
        "#RANDOM FOREST REGRESSOR\n",
        "\n",
        "RF=RandomForestRegressor(n_estimators=100)\n",
        "model=RF.fit(X_train,y_train)\n",
        "print (\"R^2 for test is: \\n\", model.score(X_test, y_test))\n",
        "\n",
        "\n",
        "predictions = model.predict(X_test)\n",
        "print ('RMSE is: \\n', mean_squared_error(y_test, predictions))\n",
        "\n",
        "\n",
        "print(\"Random Forest Train Accuracy:\",model.score(X_train, y_train))\n",
        "print(\"Random Forest Test Accuracy:\",model.score(X_test, y_test))\n"
      ],
      "execution_count": 0,
      "outputs": [
        {
          "output_type": "stream",
          "text": [
            "R^2 for test is: \n",
            " 0.529436861253979\n",
            "RMSE is: \n",
            " 0.4571779196078433\n",
            "Random Forest Train Accuracy: 0.930504347216442\n",
            "Random Forest Test Accuracy: 0.529436861253979\n"
          ],
          "name": "stdout"
        }
      ]
    },
    {
      "cell_type": "code",
      "metadata": {
        "id": "sUBcbbO8Yzl4",
        "colab_type": "code",
        "outputId": "8c247063-c534-4389-83c3-d1ef10720ac2",
        "colab": {
          "base_uri": "https://localhost:8080/",
          "height": 218
        }
      },
      "source": [
        "# Calculate the feature ranking - Top 10 \n",
        "importances = RF.feature_importances_ \n",
        "indices = np.argsort(importances)[::-1] \n",
        "\n",
        "print(\"Top 10 Important Features\\n\")\n",
        "\n",
        "for f in range(10): \n",
        "    print(\"%d. %s (%f)\" % (f + 1, X.columns[indices[f]], importances[indices[f]]))"
      ],
      "execution_count": 0,
      "outputs": [
        {
          "output_type": "stream",
          "text": [
            "Top 10 Important Features\n",
            "\n",
            "1. votes (0.278122)\n",
            "2. runtime (0.143575)\n",
            "3. Drama (0.098339)\n",
            "4. USA (0.037806)\n",
            "5. Action (0.021644)\n",
            "6. Documentary (0.017309)\n",
            "7. Comedy (0.010776)\n",
            "8. UweBoll (0.010469)\n",
            "9. Horror (0.010456)\n",
            "10. Adventure (0.009994)\n"
          ],
          "name": "stdout"
        }
      ]
    },
    {
      "cell_type": "code",
      "metadata": {
        "id": "n_zh16TeYzl7",
        "colab_type": "code",
        "outputId": "35e000b1-5a34-4236-c71d-aa2f838491d0",
        "colab": {
          "base_uri": "https://localhost:8080/",
          "height": 402
        }
      },
      "source": [
        "d={'predictions':predictions,\n",
        "   'actual':y_test}\n",
        "data_predicted_actual=pd.DataFrame(d)\n",
        "\n",
        "data_predicted_actual"
      ],
      "execution_count": 0,
      "outputs": [
        {
          "output_type": "execute_result",
          "data": {
            "text/html": [
              "<div>\n",
              "<style scoped>\n",
              "    .dataframe tbody tr th:only-of-type {\n",
              "        vertical-align: middle;\n",
              "    }\n",
              "\n",
              "    .dataframe tbody tr th {\n",
              "        vertical-align: top;\n",
              "    }\n",
              "\n",
              "    .dataframe thead th {\n",
              "        text-align: right;\n",
              "    }\n",
              "</style>\n",
              "<table border=\"1\" class=\"dataframe\">\n",
              "  <thead>\n",
              "    <tr style=\"text-align: right;\">\n",
              "      <th></th>\n",
              "      <th>predictions</th>\n",
              "      <th>actual</th>\n",
              "    </tr>\n",
              "  </thead>\n",
              "  <tbody>\n",
              "    <tr>\n",
              "      <th>1209</th>\n",
              "      <td>6.944</td>\n",
              "      <td>7.4</td>\n",
              "    </tr>\n",
              "    <tr>\n",
              "      <th>1512</th>\n",
              "      <td>6.922</td>\n",
              "      <td>6.8</td>\n",
              "    </tr>\n",
              "    <tr>\n",
              "      <th>1057</th>\n",
              "      <td>6.745</td>\n",
              "      <td>7.5</td>\n",
              "    </tr>\n",
              "    <tr>\n",
              "      <th>3713</th>\n",
              "      <td>5.979</td>\n",
              "      <td>5.7</td>\n",
              "    </tr>\n",
              "    <tr>\n",
              "      <th>157</th>\n",
              "      <td>5.967</td>\n",
              "      <td>7.4</td>\n",
              "    </tr>\n",
              "    <tr>\n",
              "      <th>...</th>\n",
              "      <td>...</td>\n",
              "      <td>...</td>\n",
              "    </tr>\n",
              "    <tr>\n",
              "      <th>1177</th>\n",
              "      <td>7.104</td>\n",
              "      <td>7.9</td>\n",
              "    </tr>\n",
              "    <tr>\n",
              "      <th>1316</th>\n",
              "      <td>6.253</td>\n",
              "      <td>7.0</td>\n",
              "    </tr>\n",
              "    <tr>\n",
              "      <th>5568</th>\n",
              "      <td>7.113</td>\n",
              "      <td>7.1</td>\n",
              "    </tr>\n",
              "    <tr>\n",
              "      <th>2166</th>\n",
              "      <td>6.533</td>\n",
              "      <td>5.8</td>\n",
              "    </tr>\n",
              "    <tr>\n",
              "      <th>4285</th>\n",
              "      <td>5.640</td>\n",
              "      <td>5.8</td>\n",
              "    </tr>\n",
              "  </tbody>\n",
              "</table>\n",
              "<p>1020 rows × 2 columns</p>\n",
              "</div>"
            ],
            "text/plain": [
              "      predictions  actual\n",
              "1209        6.944     7.4\n",
              "1512        6.922     6.8\n",
              "1057        6.745     7.5\n",
              "3713        5.979     5.7\n",
              "157         5.967     7.4\n",
              "...           ...     ...\n",
              "1177        7.104     7.9\n",
              "1316        6.253     7.0\n",
              "5568        7.113     7.1\n",
              "2166        6.533     5.8\n",
              "4285        5.640     5.8\n",
              "\n",
              "[1020 rows x 2 columns]"
            ]
          },
          "metadata": {
            "tags": []
          },
          "execution_count": 31
        }
      ]
    },
    {
      "cell_type": "code",
      "metadata": {
        "id": "IpT8QuUJYzl9",
        "colab_type": "code",
        "outputId": "3ab102b7-ed18-4317-a34c-3e6dbadc6197",
        "colab": {
          "base_uri": "https://localhost:8080/",
          "height": 295
        }
      },
      "source": [
        "actual_values = y_test\n",
        "plt.scatter(predictions, actual_values, alpha=.75,\n",
        "            color='b') #alpha helps to show overlapping data\n",
        "plt.xlabel('Predicted rating')\n",
        "plt.ylabel('Actual rating')\n",
        "plt.title('Random Forest Regressor')\n",
        "plt.show()"
      ],
      "execution_count": 0,
      "outputs": [
        {
          "output_type": "display_data",
          "data": {
            "image/png": "[encoded data removed]",
            "text/plain": [
              "<Figure size 432x288 with 1 Axes>"
            ]
          },
          "metadata": {
            "tags": [],
            "needs_background": "light"
          }
        }
      ]
    },
    {
      "cell_type": "code",
      "metadata": {
        "id": "Aj03JmiwYzl_",
        "colab_type": "code",
        "outputId": "26235144-8a46-4dfb-9291-c63721ac12fe",
        "colab": {
          "base_uri": "https://localhost:8080/",
          "height": 225
        }
      },
      "source": [
        "data = [['Linear regression', 0.67], ['RBF_SVM', 0.44],['SVM_linear',0.52],['SVM_poly',0.97],['GBR',0.49],['Random Forest',0.47]] \n",
        "MSE_table = pd.DataFrame(data, columns = ['Model', 'mse']) \n",
        "\n",
        "MSE_table"
      ],
      "execution_count": 0,
      "outputs": [
        {
          "output_type": "execute_result",
          "data": {
            "text/html": [
              "<div>\n",
              "<style scoped>\n",
              "    .dataframe tbody tr th:only-of-type {\n",
              "        vertical-align: middle;\n",
              "    }\n",
              "\n",
              "    .dataframe tbody tr th {\n",
              "        vertical-align: top;\n",
              "    }\n",
              "\n",
              "    .dataframe thead th {\n",
              "        text-align: right;\n",
              "    }\n",
              "</style>\n",
              "<table border=\"1\" class=\"dataframe\">\n",
              "  <thead>\n",
              "    <tr style=\"text-align: right;\">\n",
              "      <th></th>\n",
              "      <th>Model</th>\n",
              "      <th>mse</th>\n",
              "    </tr>\n",
              "  </thead>\n",
              "  <tbody>\n",
              "    <tr>\n",
              "      <th>0</th>\n",
              "      <td>Linear regression</td>\n",
              "      <td>0.67</td>\n",
              "    </tr>\n",
              "    <tr>\n",
              "      <th>1</th>\n",
              "      <td>RBF_SVM</td>\n",
              "      <td>0.44</td>\n",
              "    </tr>\n",
              "    <tr>\n",
              "      <th>2</th>\n",
              "      <td>SVM_linear</td>\n",
              "      <td>0.52</td>\n",
              "    </tr>\n",
              "    <tr>\n",
              "      <th>3</th>\n",
              "      <td>SVM_poly</td>\n",
              "      <td>0.97</td>\n",
              "    </tr>\n",
              "    <tr>\n",
              "      <th>4</th>\n",
              "      <td>GBR</td>\n",
              "      <td>0.49</td>\n",
              "    </tr>\n",
              "    <tr>\n",
              "      <th>5</th>\n",
              "      <td>Random Forest</td>\n",
              "      <td>0.47</td>\n",
              "    </tr>\n",
              "  </tbody>\n",
              "</table>\n",
              "</div>"
            ],
            "text/plain": [
              "               Model   mse\n",
              "0  Linear regression  0.67\n",
              "1            RBF_SVM  0.44\n",
              "2         SVM_linear  0.52\n",
              "3           SVM_poly  0.97\n",
              "4                GBR  0.49\n",
              "5      Random Forest  0.47"
            ]
          },
          "metadata": {
            "tags": []
          },
          "execution_count": 33
        }
      ]
    },
    {
      "cell_type": "markdown",
      "metadata": {
        "id": "gu5bUTRAYzmC",
        "colab_type": "text"
      },
      "source": [
        "### XGBoosting Regressor"
      ]
    },
    {
      "cell_type": "code",
      "metadata": {
        "id": "mBeO4ySsYzmC",
        "colab_type": "code",
        "outputId": "c21140f6-1ef7-4425-9f13-073a09c666c9",
        "colab": {
          "base_uri": "https://localhost:8080/",
          "height": 84
        }
      },
      "source": [
        "df_xgb=film_df.copy()\n",
        "\n",
        "df_xgb = df_xgb.loc[:,~df_xgb.columns.duplicated()]\n",
        "\n",
        "#Datasets copied\n",
        "y = df_xgb.pop('averageRating')\n",
        "X = df_xgb\n",
        "X_train, X_test, y_train, y_test = train_test_split(X, y, train_size = 0.8, test_size = 0.2, random_state = 42)\n",
        "\n",
        "print(X_train.shape)\n",
        "print(y_train.shape)\n",
        "print(X_test.shape)\n",
        "print(y_test.shape)\n",
        "\n",
        "#Scaling data\n",
        "\n",
        "scaler = MinMaxScaler()\n",
        "X_train = pd.DataFrame(scaler.fit_transform(X_train.values), columns=X_train.columns, index=X_train.index)\n",
        "\n",
        "X_test = pd.DataFrame(scaler.transform(X_test.values), columns = X_test.columns, index = X_test.index)"
      ],
      "execution_count": 0,
      "outputs": [
        {
          "output_type": "stream",
          "text": [
            "(4078, 1095)\n",
            "(4078,)\n",
            "(1020, 1095)\n",
            "(1020,)\n"
          ],
          "name": "stdout"
        }
      ]
    },
    {
      "cell_type": "code",
      "metadata": {
        "id": "9WW-3DszYzmE",
        "colab_type": "code",
        "outputId": "3a9b28b7-a778-42a4-c563-c6190c4d04f1",
        "colab": {
          "base_uri": "https://localhost:8080/",
          "height": 67
        }
      },
      "source": [
        "from sklearn.metrics import explained_variance_score\n",
        "gbm = xgb.XGBRegressor(objective ='reg:squarederror',n_estimators=100, learning_rate=0.08, \n",
        "                       gamma=0, subsample=0.75,colsample_bytree=1, \n",
        "                       max_depth=7).fit(X_train, y_train)\n",
        "\n",
        "predictions = gbm.predict(X_test)\n",
        "print(explained_variance_score(predictions,y_test))\n",
        "\n",
        "print(\"XGBOOST Train Accuracy:\",gbm.score(X_train, y_train))\n",
        "print(\"XGBOOST Test Accuracy:\",gbm.score(X_test, y_test))\n"
      ],
      "execution_count": 0,
      "outputs": [
        {
          "output_type": "stream",
          "text": [
            "0.022632692161196677\n",
            "XGBOOST Train Accuracy: 0.7176647451066127\n",
            "XGBOOST Test Accuracy: 0.559121485609297\n"
          ],
          "name": "stdout"
        }
      ]
    },
    {
      "cell_type": "markdown",
      "metadata": {
        "id": "4FTRgyOxYzmG",
        "colab_type": "text"
      },
      "source": [
        "### Classification model "
      ]
    },
    {
      "cell_type": "code",
      "metadata": {
        "id": "URx3axeMYzmH",
        "colab_type": "code",
        "colab": {}
      },
      "source": [
        "#Building a Classification Model\n",
        "# 1-3 -> Flop Movie\n",
        "# 3-6 -> Average Movie\n",
        "# above 6 -> Hit Movie\n",
        "\n",
        "\n",
        "y_train_classification = y_train.copy()\n",
        "y_train_classification = pd.cut(y_train_classification, bins=[1, 3, 6, float('Inf')], labels=['Flop Movie', 'Average Movie', 'Hit Movie'])\n",
        "\n",
        "y_test_classification = y_test.copy()\n",
        "y_test_classification = pd.cut(y_test_classification, bins=[1, 3, 6, float('Inf')], labels=['Flop Movie', 'Average Movie', 'Hit Movie'])\n",
        "\n",
        "\n",
        "X_train_classification = X_train.copy()\n",
        "X_test_classification = X_test.copy()"
      ],
      "execution_count": 0,
      "outputs": []
    },
    {
      "cell_type": "code",
      "metadata": {
        "id": "MtRpWxqhYzmJ",
        "colab_type": "code",
        "outputId": "a81fe072-2ed4-41ce-d003-96d21d81e367",
        "colab": {
          "base_uri": "https://localhost:8080/",
          "height": 154
        }
      },
      "source": [
        "#Logistic Regression\n",
        "from sklearn.linear_model import LogisticRegression\n",
        "logit_model = LogisticRegression(solver = 'saga', random_state = 0)\n",
        "logit_model.fit(X_train_classification, y_train_classification)\n",
        "\n",
        "y_logit_pred = logit_model.predict(X_test_classification)\n",
        "\n",
        "from sklearn import metrics\n",
        "count_misclassified = (y_test_classification != y_logit_pred).sum()\n",
        "print('Misclassified samples: {}'.format(count_misclassified))\n",
        "accuracy = metrics.accuracy_score(y_test_classification, y_logit_pred)\n",
        "print('Accuracy: {:.2f}'.format(accuracy))\n",
        "precision = metrics.precision_score(y_test_classification, y_logit_pred, average= 'macro')\n",
        "print('Precision: {:.2f}'.format(precision))\n",
        "recall = metrics.recall_score(y_test_classification, y_logit_pred, average= 'macro')\n",
        "print('Recall: {:.2f}'.format(recall))\n",
        "f1_score = metrics.f1_score(y_test_classification, y_logit_pred, average = 'macro')\n",
        "print('F1 score: {:.2f}'.format(f1_score))"
      ],
      "execution_count": 0,
      "outputs": [
        {
          "output_type": "stream",
          "text": [
            "Misclassified samples: 207\n",
            "Accuracy: 0.80\n",
            "Precision: 0.83\n",
            "Recall: 0.56\n",
            "F1 score: 0.62\n"
          ],
          "name": "stdout"
        },
        {
          "output_type": "stream",
          "text": [
            "/usr/local/lib/python3.6/dist-packages/sklearn/linear_model/_sag.py:330: ConvergenceWarning: The max_iter was reached which means the coef_ did not converge\n",
            "  \"the coef_ did not converge\", ConvergenceWarning)\n"
          ],
          "name": "stderr"
        }
      ]
    },
    {
      "cell_type": "code",
      "metadata": {
        "id": "5oShB6GKYzmL",
        "colab_type": "code",
        "outputId": "ad542200-44e5-4c54-b310-1ee749b135f5",
        "colab": {
          "base_uri": "https://localhost:8080/",
          "height": 101
        }
      },
      "source": [
        "#Support Vector Classifier with Linear, Polynomial, RBF\n",
        "\n",
        "from sklearn.svm import SVC\n",
        "svc_linear_model = SVC(kernel='linear', C=100, gamma= 'scale', decision_function_shape='ovo', random_state = 42)\n",
        "\n",
        "svc_linear_model.fit(X_train_classification, y_train_classification)\n",
        "\n",
        "y_svc_linear_pred = svc_linear_model.predict(X_test_classification)\n",
        "\n",
        "from sklearn import metrics\n",
        "count_misclassified = (y_test_classification != y_svc_linear_pred).sum()\n",
        "print('Misclassified samples: {}'.format(count_misclassified))\n",
        "accuracy = metrics.accuracy_score(y_test_classification, y_svc_linear_pred)\n",
        "print('Accuracy: {:.2f}'.format(accuracy))\n",
        "precision = metrics.precision_score(y_test_classification, y_svc_linear_pred, average= 'macro')\n",
        "print('Precision: {:.2f}'.format(precision))\n",
        "recall = metrics.recall_score(y_test_classification, y_svc_linear_pred, average= 'macro')\n",
        "print('Recall: {:.2f}'.format(recall))\n",
        "f1_score = metrics.f1_score(y_test_classification, y_svc_linear_pred, average = 'macro')\n",
        "print('F1 score: {:.2f}'.format(f1_score))"
      ],
      "execution_count": 0,
      "outputs": [
        {
          "output_type": "stream",
          "text": [
            "Misclassified samples: 228\n",
            "Accuracy: 0.78\n",
            "Precision: 0.53\n",
            "Recall: 0.55\n",
            "F1 score: 0.54\n"
          ],
          "name": "stdout"
        }
      ]
    },
    {
      "cell_type": "code",
      "metadata": {
        "id": "nF9gRFkZYzmO",
        "colab_type": "code",
        "outputId": "95321c6b-0fe5-46a5-eeca-cf8fd3d7ad77",
        "colab": {
          "base_uri": "https://localhost:8080/",
          "height": 101
        }
      },
      "source": [
        "from sklearn.svm import SVC\n",
        "svc_poly_model = SVC(kernel='poly', C=100, gamma= 'scale', degree = 3, decision_function_shape='ovo', random_state = 42)\n",
        "\n",
        "svc_poly_model.fit(X_train_classification, y_train_classification)\n",
        "y_svc_poly_pred = svc_poly_model.predict(X_test_classification)\n",
        "\n",
        "from sklearn import metrics\n",
        "count_misclassified = (y_test_classification != y_svc_poly_pred).sum()\n",
        "print('Misclassified samples: {}'.format(count_misclassified))\n",
        "accuracy = metrics.accuracy_score(y_test_classification, y_svc_poly_pred)\n",
        "print('Accuracy: {:.2f}'.format(accuracy))\n",
        "precision = metrics.precision_score(y_test_classification, y_svc_poly_pred, average= 'macro')\n",
        "print('Precision: {:.2f}'.format(precision))\n",
        "recall = metrics.recall_score(y_test_classification, y_svc_poly_pred, average= 'macro')\n",
        "print('Recall: {:.2f}'.format(recall))\n",
        "f1_score = metrics.f1_score(y_test_classification, y_svc_poly_pred, average = 'macro')\n",
        "print('F1 score: {:.2f}'.format(f1_score))"
      ],
      "execution_count": 0,
      "outputs": [
        {
          "output_type": "stream",
          "text": [
            "Misclassified samples: 243\n",
            "Accuracy: 0.76\n",
            "Precision: 0.55\n",
            "Recall: 0.54\n",
            "F1 score: 0.55\n"
          ],
          "name": "stdout"
        }
      ]
    },
    {
      "cell_type": "code",
      "metadata": {
        "id": "fFJgggr5YzmQ",
        "colab_type": "code",
        "outputId": "16bd9587-5b0b-41f3-8c12-e4f6ef887c89",
        "colab": {
          "base_uri": "https://localhost:8080/",
          "height": 222
        }
      },
      "source": [
        "#Ensemble Models\n",
        "#Random Forest Classifier with Hyper Parameter tuning\n",
        "\n",
        "from sklearn.ensemble import RandomForestClassifier\n",
        "from sklearn.model_selection import GridSearchCV\n",
        "# Create the parameter grid based on the results of random search \n",
        "param_grid = {\n",
        "    'bootstrap': [True],\n",
        "    'max_depth': [90,100],#list(range(90,100)),\n",
        "    'max_features': [2, 3],\n",
        "    'min_samples_leaf': [3, 4],\n",
        "    'min_samples_split': [8, 10],\n",
        "    'n_estimators': [100, 500, 1000],\n",
        "    'random_state' :[0]\n",
        "}\n",
        "# Create a based model\n",
        "rf_model_classification = RandomForestClassifier()\n",
        "# Instantiate the grid search model\n",
        "grid_search_rf_model_classificaiton = GridSearchCV(estimator = rf_model_classification, param_grid = param_grid, \n",
        "                          cv = 3, n_jobs = -1, verbose = 2)\n",
        "\n",
        "grid_search_rf_model_classificaiton.fit(X_train_classification, y_train_classification)\n",
        "\n",
        "y_rf_classification_pred = grid_search_rf_model_classificaiton.predict(X_test_classification)\n",
        "\n",
        "from sklearn import metrics\n",
        "count_misclassified = (y_test_classification != y_rf_classification_pred).sum()\n",
        "print('Misclassified samples: {}'.format(count_misclassified))\n",
        "accuracy = metrics.accuracy_score(y_test_classification, y_rf_classification_pred)\n",
        "print('Accuracy: {:.2f}'.format(accuracy))\n",
        "precision = metrics.precision_score(y_test_classification, y_rf_classification_pred, average= 'macro')\n",
        "print('Precision: {:.2f}'.format(precision))\n",
        "recall = metrics.recall_score(y_test_classification, y_rf_classification_pred, average= 'macro')\n",
        "print('Recall: {:.2f}'.format(recall))\n",
        "f1_score = metrics.f1_score(y_test_classification, y_rf_classification_pred, average = 'macro')\n",
        "print('F1 score: {:.2f}'.format(f1_score))"
      ],
      "execution_count": 0,
      "outputs": [
        {
          "output_type": "stream",
          "text": [
            "Fitting 3 folds for each of 48 candidates, totalling 144 fits\n"
          ],
          "name": "stdout"
        },
        {
          "output_type": "stream",
          "text": [
            "[Parallel(n_jobs=-1)]: Using backend LokyBackend with 2 concurrent workers.\n",
            "[Parallel(n_jobs=-1)]: Done  37 tasks      | elapsed:   32.0s\n",
            "[Parallel(n_jobs=-1)]: Done 144 out of 144 | elapsed:  1.9min finished\n"
          ],
          "name": "stderr"
        },
        {
          "output_type": "stream",
          "text": [
            "Misclassified samples: 278\n",
            "Accuracy: 0.73\n",
            "Precision: 0.24\n",
            "Recall: 0.33\n",
            "F1 score: 0.28\n"
          ],
          "name": "stdout"
        },
        {
          "output_type": "stream",
          "text": [
            "/usr/local/lib/python3.6/dist-packages/sklearn/metrics/_classification.py:1272: UndefinedMetricWarning: Precision is ill-defined and being set to 0.0 in labels with no predicted samples. Use `zero_division` parameter to control this behavior.\n",
            "  _warn_prf(average, modifier, msg_start, len(result))\n"
          ],
          "name": "stderr"
        }
      ]
    },
    {
      "cell_type": "code",
      "metadata": {
        "id": "i70x-SPjYzmV",
        "colab_type": "code",
        "outputId": "ee56dc6a-1d6e-4b40-bc63-b3a0a611e9b0",
        "colab": {
          "base_uri": "https://localhost:8080/",
          "height": 168
        }
      },
      "source": [
        "#Gradient Boost Classifier with Hyper Parameter Tuning\n",
        "\n",
        "from sklearn.ensemble import GradientBoostingClassifier\n",
        "from sklearn.model_selection import GridSearchCV\n",
        "# Create the parameter grid based on the results of random search \n",
        "param_grid = {\n",
        "    'max_depth': [10, 50, 90],\n",
        "    'max_features': [3],\n",
        "    'min_samples_leaf': [3],\n",
        "    'min_samples_split': [8, 10],\n",
        "    'n_estimators': [100, 500],\n",
        "    'learning_rate' : [0.01, 0.2],\n",
        "    'random_state' : [0]\n",
        "}\n",
        "# Create a based model\n",
        "gbc_model_classification = GradientBoostingClassifier()\n",
        "# Instantiate the grid search model\n",
        "\n",
        "grid_search_gbc_model_classificaiton = GridSearchCV(estimator = gbc_model_classification, param_grid = param_grid,cv = 3, n_jobs = -1, verbose = 2)\n",
        "\n",
        "grid_search_gbc_model_classificaiton.fit(X_train_classification, y_train_classification)\n",
        "y_gbc_model_pred = grid_search_gbc_model_classificaiton.predict(X_test_classification)\n",
        "\n",
        "from sklearn import metrics\n",
        "count_misclassified = (y_test_classification != y_gbc_model_pred).sum()\n",
        "print('Misclassified samples: {}'.format(count_misclassified))\n",
        "accuracy = metrics.accuracy_score(y_test_classification, y_gbc_model_pred)\n",
        "print('Accuracy: {:.2f}'.format(accuracy))\n",
        "precision = metrics.precision_score(y_test_classification, y_gbc_model_pred, average= 'macro')\n",
        "print('Precision: {:.2f}'.format(precision))\n",
        "recall = metrics.recall_score(y_test_classification, y_gbc_model_pred, average= 'macro')\n",
        "print('Recall: {:.2f}'.format(recall))\n",
        "f1_score = metrics.f1_score(y_test_classification, y_gbc_model_pred, average = 'macro')\n",
        "print('F1 score: {:.2f}'.format(f1_score))\n",
        "                              "
      ],
      "execution_count": 0,
      "outputs": [
        {
          "output_type": "stream",
          "text": [
            "Fitting 3 folds for each of 24 candidates, totalling 72 fits\n"
          ],
          "name": "stdout"
        },
        {
          "output_type": "stream",
          "text": [
            "[Parallel(n_jobs=-1)]: Using backend LokyBackend with 2 concurrent workers.\n",
            "[Parallel(n_jobs=-1)]: Done  37 tasks      | elapsed:   58.0s\n",
            "[Parallel(n_jobs=-1)]: Done  72 out of  72 | elapsed:  2.0min finished\n"
          ],
          "name": "stderr"
        },
        {
          "output_type": "stream",
          "text": [
            "Misclassified samples: 222\n",
            "Accuracy: 0.78\n",
            "Precision: 0.65\n",
            "Recall: 0.55\n",
            "F1 score: 0.59\n"
          ],
          "name": "stdout"
        }
      ]
    }
  ]
}